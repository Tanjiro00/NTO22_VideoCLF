{
  "cells": [
    {
      "cell_type": "markdown",
      "metadata": {
        "id": "B29SSYY6JywI"
      },
      "source": [
        "<div class=\"alert alert-success\">\n",
        "    <h2 align='center'>📔 Загрузим, Импортирум, и приготовим данные 👨🏻‍🍳</h2>\n",
        "</div>"
      ]
    },
    {
      "cell_type": "code",
      "execution_count": null,
      "metadata": {
        "_cell_guid": "b1076dfc-b9ad-4769-8c92-a6c4dae69d19",
        "_kg_hide-input": true,
        "_kg_hide-output": true,
        "_uuid": "8f2839f25d086af736a60e9eeb907d3b93b6e0e5",
        "execution": {
          "iopub.execute_input": "2021-08-18T06:07:36.292544Z",
          "iopub.status.busy": "2021-08-18T06:07:36.292112Z",
          "iopub.status.idle": "2021-08-18T06:08:05.760440Z",
          "shell.execute_reply": "2021-08-18T06:08:05.759569Z",
          "shell.execute_reply.started": "2021-08-18T06:07:36.292447Z"
        },
        "id": "ft5p2d6rJywI"
      },
      "outputs": [],
      "source": [
        "%%sh\n",
        "pip install -q timm\n",
        "pip install -q einops\n",
        "pip install -q rich\n",
        "pip install -q wandb --upgrade;"
      ]
    },
    {
      "cell_type": "code",
      "source": [
        "from google.colab import drive\n",
        "drive.mount('/content/drive')"
      ],
      "metadata": {
        "colab": {
          "base_uri": "https://localhost:8080/"
        },
        "id": "wv7Q3ZA3swEW",
        "outputId": "4f0916a0-d404-4453-9554-78008b3425f0"
      },
      "execution_count": null,
      "outputs": [
        {
          "output_type": "stream",
          "name": "stdout",
          "text": [
            "Mounted at /content/drive\n"
          ]
        }
      ]
    },
    {
      "cell_type": "code",
      "execution_count": null,
      "metadata": {
        "id": "JvmaYorRJ0ax",
        "colab": {
          "base_uri": "https://localhost:8080/"
        },
        "outputId": "2f25e78e-7427-403c-8521-0c31f9944d98"
      },
      "outputs": [
        {
          "output_type": "stream",
          "name": "stdout",
          "text": [
            "Archive:  /content/drive/MyDrive/Video_clf/filter_videos.zip\n",
            "   creating: /content/videos/train_video/\n",
            "  inflating: /content/videos/train_video/000763544-florida-boat-bay_preview.mp4  \n",
            "  inflating: /content/videos/train_video/000937113-edge-sea-kilauea-lava-flow_preview.mp4  \n",
            "  inflating: /content/videos/train_video/000939521-ecuador-crater-lake-view_preview.mp4  \n",
            "  inflating: /content/videos/train_video/000984040-steeple-church-kona-hawaii_preview.mp4  \n",
            "  inflating: /content/videos/train_video/000984827-honolulu-ala-moana-late-evenin_preview.mp4  \n",
            "  inflating: /content/videos/train_video/000985481-hydrangeas-and-gazebo-maui_preview.mp4  \n",
            "  inflating: /content/videos/train_video/000985570-maui-lahaina-street-scene_preview.mp4  \n",
            "  inflating: /content/videos/train_video/000985854-upcountry-view-island-maui_preview.mp4  \n",
            "  inflating: /content/videos/train_video/000985859-maui-view-haleakala-4_preview.mp4  \n",
            "  inflating: /content/videos/train_video/005495163-white-flower_preview.mp4  \n",
            "  inflating: /content/videos/train_video/005501044-poinciana-flowers-wind_preview.mp4  \n",
            "  inflating: /content/videos/train_video/008608165-andalusia-salobrena-vies_preview.mp4  \n",
            "  inflating: /content/videos/train_video/010723413-massachusetts-salisbury-beach-_preview.mp4  \n",
            "  inflating: /content/videos/train_video/010918604-merida-aqueduct-miracles-flowe_preview.mp4  \n",
            "  inflating: /content/videos/train_video/011001413-spain-stork-and-church-2_preview.mp4  \n",
            "  inflating: /content/videos/train_video/011004318-spain-storks-nest_preview.mp4  \n",
            "  inflating: /content/videos/train_video/011095672-chile-hollyhock-s1_preview.mp4  \n",
            "  inflating: /content/videos/train_video/011130883-amalia-glacier-people-ship_preview.mp4  \n",
            "  inflating: /content/videos/train_video/024686456-idaho-snake-river-thousand-fal_preview.mp4  \n",
            "  inflating: /content/videos/train_video/024687499-west-virginia-huntington-flood_preview.mp4  \n",
            "  inflating: /content/videos/train_video/026101097-clouds-moving-over-flat-plain_preview.mp4  \n",
            "  inflating: /content/videos/train_video/026234704-time-lapse-cloud-streamers-wis_preview.mp4  \n",
            "  inflating: /content/videos/train_video/026237940-kansas-clouds-over-plains_preview.mp4  \n",
            "  inflating: /content/videos/train_video/026250895-kansas-wheat-and-windmills-tim_preview.mp4  \n",
            "  inflating: /content/videos/train_video/026349083-new-mexico-taos-landscape-time_preview.mp4  \n",
            "  inflating: /content/videos/train_video/026358200-utah-capitol-reef-clouds-time-_preview.mp4  \n",
            "  inflating: /content/videos/train_video/034655368-berlin-bahnhof-friedrichstrass_preview.mp4  \n",
            "  inflating: /content/videos/train_video/034660478-berlin-reichstag-backlit-drama_preview.mp4  \n",
            "  inflating: /content/videos/train_video/038804681-fire-grill_preview.mp4  \n",
            "  inflating: /content/videos/train_video/039742171-cusco-street-plaza-and-church_preview.mp4  \n",
            "  inflating: /content/videos/train_video/039817929-canada-athabasca-glacier-drama_preview.mp4  \n",
            "  inflating: /content/videos/train_video/039818055-canada-icefields-parkway-athab_preview.mp4  \n",
            "  inflating: /content/videos/train_video/040602606-canada-athabasca-glacier-movin_preview.mp4  \n",
            "  inflating: /content/videos/train_video/040613180-british-columbia-mount-robson-_preview.mp4  \n",
            "  inflating: /content/videos/train_video/040642316-montana-grass-fire-and-weeds-s_preview.mp4  \n",
            "  inflating: /content/videos/train_video/0530_F1507_H2_008_Orcas_02_preview.mp4  \n",
            "  inflating: /content/videos/train_video/128255765-guatemala-flowers-decorate-int_preview.mp4  \n",
            "  inflating: /content/videos/train_video/132080839-paris-tree-lined-avenue_preview.mp4  \n",
            "  inflating: /content/videos/train_video/150412_01_SeaSlowMotion_BW_1080p_preview.mp4  \n",
            "  inflating: /content/videos/train_video/150412_07_SeaSlowMotion_BWCC_1080p_preview.mp4  \n",
            "  inflating: /content/videos/train_video/160410_46_LA_Motorway_5_1080p_preview.mp4  \n",
            "  inflating: /content/videos/train_video/160820_049_NYC_RainStreet6_1080p_preview.mp4  \n",
            "  inflating: /content/videos/train_video/160820_057_NYC_TaxisInRain4_1080p_preview.mp4  \n",
            "  inflating: /content/videos/train_video/160825_05_Sunflowers3_1080p_preview.mp4  \n",
            "  inflating: /content/videos/train_video/160929_044_London_BigBen2_1080p_preview.mp4  \n",
            "  inflating: /content/videos/train_video/161212_028_Vietnam_1080p96fps_preview.mp4  \n",
            "  inflating: /content/videos/train_video/161212_056_Vietnam_1080p96fps_preview.mp4  \n",
            "  inflating: /content/videos/train_video/161212_087_Vietnam_1080p96fps_preview.mp4  \n",
            "  inflating: /content/videos/train_video/170216A_136_WomanDrivingCar_1080p_preview.mp4  \n",
            "  inflating: /content/videos/train_video/170411A_13_Blossom_1080p_preview.mp4  \n",
            "  inflating: /content/videos/train_video/170411A_23_Blossom_1080p_preview.mp4  \n",
            "  inflating: /content/videos/train_video/170609_A_Delhi_074_1_preview.mp4  \n",
            "  inflating: /content/videos/train_video/170609_B_DelhiJamaMasjid_006_preview.mp4  \n",
            "  inflating: /content/videos/train_video/170609_B_DelhiJamaMasjid_054_preview.mp4  \n",
            "  inflating: /content/videos/train_video/170609_D_Varanasi_002_preview.mp4  \n",
            "  inflating: /content/videos/train_video/170609_E_Varanasi_022_preview.mp4  \n",
            "  inflating: /content/videos/train_video/170609_E_Varanasi_028_preview.mp4  \n",
            "  inflating: /content/videos/train_video/170609_E_Varanasi_111_1_preview.mp4  \n",
            "  inflating: /content/videos/train_video/170609_F_Varanasi_050_preview.mp4  \n",
            "  inflating: /content/videos/train_video/170724_01_Wavesfromabove_preview.mp4  \n",
            "  inflating: /content/videos/train_video/170724_41_Surfersfromabove_preview.mp4  \n",
            "  inflating: /content/videos/train_video/170804_A_Lombok_026_preview.mp4  \n",
            "  inflating: /content/videos/train_video/170804_B_Lombok_068_preview.mp4  \n",
            "  inflating: /content/videos/train_video/170804_C_Lombok_001_preview.mp4  \n",
            "  inflating: /content/videos/train_video/170804_C_Lombok_026_preview.mp4  \n",
            "  inflating: /content/videos/train_video/171124_C2_UHD_002_preview.mp4  \n",
            "  inflating: /content/videos/train_video/171124_D1_HD_011_preview.mp4  \n",
            "  inflating: /content/videos/train_video/171124_I1_004_preview.mp4  \n",
            "  inflating: /content/videos/train_video/171124_I1_009_preview.mp4  \n",
            "  inflating: /content/videos/train_video/180116_01_01_preview.mp4  \n",
            "  inflating: /content/videos/train_video/180301_07_A_HongKongIsland_19_preview.mp4  \n",
            "  inflating: /content/videos/train_video/180607_A_015_preview.mp4  \n",
            "  inflating: /content/videos/train_video/180607_A_036_preview.mp4  \n",
            "  inflating: /content/videos/train_video/180607_A_100_preview.mp4  \n",
            "  inflating: /content/videos/train_video/180607_A_122_preview.mp4  \n",
            "  inflating: /content/videos/train_video/180825_02_02_preview.mp4  \n",
            "  inflating: /content/videos/train_video/180825_08_garden_preview.mp4  \n",
            "  inflating: /content/videos/train_video/180920_01_Cologne_02_preview.mp4  \n",
            "  inflating: /content/videos/train_video/181004_21_WATERDEVELOPMENT_07_preview.mp4  \n",
            "  inflating: /content/videos/train_video/181015_05a_Griffith Observatory Drone_09_preview.mp4  \n",
            "  inflating: /content/videos/train_video/181015_05b_GriffithObservatory_15_preview.mp4  \n",
            "  inflating: /content/videos/train_video/181015_05c_GriffithObservatory_HD_003_preview.mp4  \n",
            "  inflating: /content/videos/train_video/181015_06_FourLevel_03_preview.mp4  \n",
            "  inflating: /content/videos/train_video/181015_06_FourLevel_04_preview.mp4  \n",
            "  inflating: /content/videos/train_video/181015_09_Timelapses_06_preview.mp4  \n",
            "  inflating: /content/videos/train_video/190111_04_TaksinBridge_Drone_12_preview.mp4  \n",
            "  inflating: /content/videos/train_video/190111_11_ChinaTown_HD_004_preview.mp4  \n",
            "  inflating: /content/videos/train_video/190111_16_MuayThaiTraining_HD_04_preview.mp4  \n",
            "  inflating: /content/videos/train_video/190111_TL_1_12_preview.mp4  \n",
            "  inflating: /content/videos/train_video/190212_03_MarrakechKoutoubia_HD_07_preview.mp4  \n",
            "  inflating: /content/videos/train_video/190212_03_MarrakechKoutoubia_HD_12_preview.mp4  \n",
            "  inflating: /content/videos/train_video/190301_02_KenyaWildlife_03_preview.mp4  \n",
            "  inflating: /content/videos/train_video/190301_02_KenyaWildlife_26_preview.mp4  \n",
            "  inflating: /content/videos/train_video/190301_02_KenyaWildlife_27_preview.mp4  \n",
            "  inflating: /content/videos/train_video/190301_02_KenyaWildlife_36_preview.mp4  \n",
            "  inflating: /content/videos/train_video/190301_02_KenyaWildlife_40_preview.mp4  \n",
            "  inflating: /content/videos/train_video/190301_1_25_01_preview.mp4  \n",
            "  inflating: /content/videos/train_video/190301_1_25_11_preview.mp4  \n",
            "  inflating: /content/videos/train_video/190301_1_25_14_preview.mp4  \n",
            "  inflating: /content/videos/train_video/190312_04_PiazzaNavona_UHD_003_preview.mp4  \n",
            "  inflating: /content/videos/train_video/190312_21_StPetersBasilicaSquare_UHD_005_preview.mp4  \n",
            "  inflating: /content/videos/train_video/190312_26_PiazzaVenezia_Drone_009_preview.mp4  \n",
            "  inflating: /content/videos/train_video/190319_01_ClimateChange_013_preview.mp4  \n",
            "  inflating: /content/videos/train_video/190408_MonarchLifecycle2_04_preview.mp4  \n",
            "  inflating: /content/videos/train_video/190614_02_HellMouth_UHD_09_preview.mp4  \n",
            "  inflating: /content/videos/train_video/190614_09_CamelYurts_UHD_01_preview.mp4  \n",
            "  inflating: /content/videos/train_video/190625_07_RooftopFlightNight_Drone_05_preview.mp4  \n",
            "  inflating: /content/videos/train_video/190625_07_RooftopFlightNight_Drone_15_preview.mp4  \n",
            "  inflating: /content/videos/train_video/190625_08_RooftopFlightMisc_Drone_27_preview.mp4  \n",
            "  inflating: /content/videos/train_video/190712_Cornwall_HD_11_preview.mp4  \n",
            "  inflating: /content/videos/train_video/190802_01_MakokoStiltCommunity_HD_57_preview.mp4  \n",
            "  inflating: /content/videos/train_video/190802_01_MakokoStiltCommunity_HD_61_preview.mp4  \n",
            "  inflating: /content/videos/train_video/190802_05_PlasticPollution_HD_07_preview.mp4  \n",
            "  inflating: /content/videos/train_video/190802_17a_HD_21_preview.mp4  \n",
            "  inflating: /content/videos/train_video/190802_17a_HD_32_preview.mp4  \n",
            "  inflating: /content/videos/train_video/190802_17a_HD_33_preview.mp4  \n",
            "  inflating: /content/videos/train_video/190802_17a_HD_40_preview.mp4  \n",
            "  inflating: /content/videos/train_video/190802_17b_UHD_04_preview.mp4  \n",
            "  inflating: /content/videos/train_video/190802_22_Drone_18_preview.mp4  \n",
            "  inflating: /content/videos/train_video/191126_2_HD_Party_Cropped_07_preview.mp4  \n",
            "  inflating: /content/videos/train_video/191126_2_HD_Party_Cropped_10_preview.mp4  \n",
            "  inflating: /content/videos/train_video/200116_Lens effect_4k_074_preview.mp4  \n",
            "  inflating: /content/videos/train_video/200207_London Streets_1_4k_065_preview.mp4  \n",
            "  inflating: /content/videos/train_video/200223_Cafe_03_14_preview.mp4  \n",
            "  inflating: /content/videos/train_video/200223_Cafe_03_26_preview.mp4  \n",
            "  inflating: /content/videos/train_video/200412_02_Fire4K_08_preview.mp4  \n",
            "  inflating: /content/videos/train_video/200415_03_Batch_05_006_preview.mp4  \n",
            "  inflating: /content/videos/train_video/200415_03_Batch_05_007_preview.mp4  \n",
            "  inflating: /content/videos/train_video/200506_kitchen Food_02_4k_019_preview.mp4  \n",
            "  inflating: /content/videos/train_video/200506_Kitchen Food_03_4k_008_preview.mp4  \n",
            "  inflating: /content/videos/train_video/200506_Kitchen Food_04_4k_014_preview.mp4  \n",
            "  inflating: /content/videos/train_video/200506_Kitchen Food_04_4k_019_preview.mp4  \n",
            "  inflating: /content/videos/train_video/200506_Kitchen Food_04_4k_032_preview.mp4  \n",
            "  inflating: /content/videos/train_video/200506_Kitchen Food_05_4k_043_preview.mp4  \n",
            "  inflating: /content/videos/train_video/200506_Kitchen Food_05_4k_044_preview.mp4  \n",
            "  inflating: /content/videos/train_video/200520_Kim Sydney_02_HD_020_preview.mp4  \n",
            "  inflating: /content/videos/train_video/200605_BLM US Protests_01_4k_002_preview.mp4  \n",
            "  inflating: /content/videos/train_video/200605_BLM US Protests_01_4k_013_preview.mp4  \n",
            "  inflating: /content/videos/train_video/200605_BLM US Protests_02_4k_038_preview.mp4  \n",
            "  inflating: /content/videos/train_video/200612_Making Pizza_01_4k_026_preview.mp4  \n",
            "  inflating: /content/videos/train_video/200612_Making Pizza_01_4k_041_preview.mp4  \n",
            "  inflating: /content/videos/train_video/200910_02_Oxford_4K_042_preview.mp4  \n",
            "  inflating: /content/videos/train_video/200910_04_Oxford_4K_041_preview.mp4  \n",
            "  inflating: /content/videos/train_video/200923_03_Birmingham_4k_023_preview.mp4  \n",
            "  inflating: /content/videos/train_video/201119_02_Cobnut Christmas_4k_001_preview.mp4  \n",
            "  inflating: /content/videos/train_video/201119_04_Cobnut Christmas_4k_017_preview.mp4  \n",
            "  inflating: /content/videos/train_video/210112_01_Covid Oxford_4k_060_preview.mp4  \n",
            "  inflating: /content/videos/train_video/210303_01_Rural Walk_4k_015_preview.mp4  \n",
            "  inflating: /content/videos/train_video/210518_06_Camera DIY_2k_006_preview.mp4  \n",
            "  inflating: /content/videos/train_video/210521_01_Oxford Rain_4k_004_preview.mp4  \n",
            "  inflating: /content/videos/train_video/210521_02_Oxford Rain_2k_001_preview.mp4  \n",
            "  inflating: /content/videos/train_video/210603_02_July 4_4k_003_preview.mp4  \n",
            "  inflating: /content/videos/train_video/210603_02_July 4_4k_008_preview.mp4  \n",
            "  inflating: /content/videos/train_video/210603_03_July 4_4k_004_preview.mp4  \n",
            "  inflating: /content/videos/train_video/210603_03_July 4_4k_024_preview.mp4  \n",
            "  inflating: /content/videos/train_video/210613_01_Drone Cogges_4k_011_preview.mp4  \n",
            "  inflating: /content/videos/train_video/210616_02_Staycation_4k_061_preview.mp4  \n",
            "  inflating: /content/videos/train_video/210616_04_Staycation_4k_012_preview.mp4  \n",
            "  inflating: /content/videos/train_video/210722_05_Festival_4k_073_preview.mp4  \n",
            "  inflating: /content/videos/train_video/210804_01_Dog Walk_4k_024_preview.mp4  \n",
            "  inflating: /content/videos/train_video/210819_06_Health and Expressions_4k_024_preview.mp4  \n",
            "  inflating: /content/videos/train_video/210826_06_Family Outdoors_4k_043_preview.mp4  \n",
            "  inflating: /content/videos/train_video/211004_02B_Bali_4k_009_preview.mp4  \n",
            "  inflating: /content/videos/train_video/211025_10_C_Kids in Studio_HD_009_preview.mp4  \n",
            "  inflating: /content/videos/train_video/211028_06_Christmas Bar_4K_018_preview.mp4  \n",
            "  inflating: /content/videos/train_video/211212_03_Jakarta_4k_083_preview.mp4  \n",
            "  inflating: /content/videos/train_video/211212_07_Jakarta_4k_041_preview.mp4  \n",
            "  inflating: /content/videos/train_video/211212_07_Jakarta_4k_058_preview.mp4  \n",
            "  inflating: /content/videos/train_video/220507_01_Nature 1_4k_005_preview.mp4  \n",
            "  inflating: /content/videos/train_video/220507_01_Nature 1_4k_028_preview.mp4  \n",
            "  inflating: /content/videos/train_video/220507_01_Nature 1_4k_039_preview.mp4  \n",
            "  inflating: /content/videos/train_video/220518_01_Woods_4k_010_preview.mp4  \n",
            "  inflating: /content/videos/train_video/220518_02_Woods_4k_003_preview.mp4  \n",
            "  inflating: /content/videos/train_video/4k_Tilt_of_Waterfall_preview.mp4  \n",
            "  inflating: /content/videos/train_video/Airplanewing1_preview.mp4  \n",
            "  inflating: /content/videos/train_video/Aitutaki colorful kayaks on a beach by a lagoon zoom in_preview.mp4  \n",
            "  inflating: /content/videos/train_video/Alaska Denali park tourists on path_preview.mp4  \n",
            "  inflating: /content/videos/train_video/Alaska edge of northern forest zoom in_preview.mp4  \n",
            "  inflating: /content/videos/train_video/Aquarium bottom fish_preview.mp4  \n",
            "  inflating: /content/videos/train_video/Arizona palms and grey sky_preview.mp4  \n",
            "  inflating: /content/videos/train_video/Arkansas Mammoth Spring water detail_preview.mp4  \n",
            "  inflating: /content/videos/train_video/barras012_preview.mp4  \n",
            "  inflating: /content/videos/train_video/Beach_evening_preview.mp4  \n",
            "  inflating: /content/videos/train_video/Beach_sp1_H264_Videvo_preview.mp4  \n",
            "  inflating: /content/videos/train_video/Big leaf maple flowers zoom in_preview.mp4  \n",
            "  inflating: /content/videos/train_video/Blurred_Dance_Floor_preview.mp4  \n",
            "  inflating: /content/videos/train_video/BokehNightDriving_preview.mp4  \n",
            "  inflating: /content/videos/train_video/California Anza Borrego flowers and view_preview.mp4  \n",
            "  inflating: /content/videos/train_video/California clouds time lapse_preview.mp4  \n",
            "  inflating: /content/videos/train_video/California flowering shrub in forest_preview.mp4  \n",
            "  inflating: /content/videos/train_video/California fountain with pink flowers and people_preview.mp4  \n",
            "  inflating: /content/videos/train_video/California Merced River rapids and weeds zooms in_preview.mp4  \n",
            "  inflating: /content/videos/train_video/California smoke in evening sky_preview.mp4  \n",
            "  inflating: /content/videos/train_video/Canada broad view Bay of Fundy_preview.mp4  \n",
            "  inflating: /content/videos/train_video/Canada Nova Scotia cloudy sky and distant houses pan_preview.mp4  \n",
            "  inflating: /content/videos/train_video/Canada Nova Scotia forest under cloudy sky pan_preview.mp4  \n",
            "  inflating: /content/videos/train_video/Canada rocks and blue sky_preview.mp4  \n",
            "  inflating: /content/videos/train_video/Cape_Perpetua_Oregon_Coast_preview.mp4  \n",
            "  inflating: /content/videos/train_video/Cape_Perpetua_Oregon_Coast_Pt_2_preview.mp4  \n",
            "  inflating: /content/videos/train_video/Cell_Tower_at_Sunset_CLOSE_preview.mp4  \n",
            "  inflating: /content/videos/train_video/Chickens_Outside_03_preview.mp4  \n",
            "  inflating: /content/videos/train_video/Chile Punta Arenas zooms on street scene_preview.mp4  \n",
            "  inflating: /content/videos/train_video/Chile Smyth Channel reflection of rugged mountains_preview.mp4  \n",
            "  inflating: /content/videos/train_video/Chile Smyth Channel sailboat on rugged coast_preview.mp4  \n",
            "  inflating: /content/videos/train_video/Chile Valparaiso pilot boat goes by_preview.mp4  \n",
            "  inflating: /content/videos/train_video/Choppy_Sea_3_preview.mp4  \n",
            "  inflating: /content/videos/train_video/City street time lapse-H264 75_preview.mp4  \n",
            "  inflating: /content/videos/train_video/Clip17271013Videvo_preview.mp4  \n",
            "  inflating: /content/videos/train_video/Close up of lake -H264 75_preview.mp4  \n",
            "  inflating: /content/videos/train_video/CloseupWaterfall3_preview.mp4  \n",
            "  inflating: /content/videos/train_video/creek_in_slowmotion1_preview.mp4  \n",
            "  inflating: /content/videos/train_video/creek_in_slowmotion2_preview.mp4  \n",
            "  inflating: /content/videos/train_video/Croatia Lovran rocks and water_preview.mp4  \n",
            "  inflating: /content/videos/train_video/Croatia water on rocks at high tide pan_preview.mp4  \n",
            "  inflating: /content/videos/train_video/Daisy-Stock Video_preview.mp4  \n",
            "  inflating: /content/videos/train_video/DeerWalking_preview.mp4  \n",
            "  inflating: /content/videos/train_video/Distant_Waterfall_Mt_Ranier_preview.mp4  \n",
            "  inflating: /content/videos/train_video/Droplets_Videvo_preview.mp4  \n",
            "  inflating: /content/videos/train_video/DSCN0569rain_preview.mp4  \n",
            "  inflating: /content/videos/train_video/Falls3_preview.mp4  \n",
            "  inflating: /content/videos/train_video/Fig tree in spring and looming clouds_preview.mp4  \n",
            "  inflating: /content/videos/train_video/Fig tree top zooms out_preview.mp4  \n",
            "  inflating: /content/videos/train_video/Fire_2_preview.mp4  \n",
            "  inflating: /content/videos/train_video/Florida Everglades Eco Pond with reflection and bird_preview.mp4  \n",
            "  inflating: /content/videos/train_video/flor_preview.mp4  \n",
            "  inflating: /content/videos/train_video/Flowers bright red tulip_preview.mp4  \n",
            "  inflating: /content/videos/train_video/Flowers in park -H264 75_preview.mp4  \n",
            "  inflating: /content/videos/train_video/FoodPack1_04_Videvo_preview.mp4  \n",
            "  inflating: /content/videos/train_video/France blooming trees in woods zoom in_preview.mp4  \n",
            "  inflating: /content/videos/train_video/France curious alpine clouds time lapse_preview.mp4  \n",
            "  inflating: /content/videos/train_video/France Mont Blanc les Bossons Glacier view_preview.mp4  \n",
            "  inflating: /content/videos/train_video/France Mont Blanc les Bossons Glacier zoom out_preview.mp4  \n",
            "  inflating: /content/videos/train_video/France Mont Blanc view with street light zoom in_preview.mp4  \n",
            "  inflating: /content/videos/train_video/France Mont Blanc with clouds time lapse_preview.mp4  \n",
            "  inflating: /content/videos/train_video/France Mont Blanc zooms in from highway_preview.mp4  \n",
            "  inflating: /content/videos/train_video/France Revel Belledonne church and WWI statue_preview.mp4  \n",
            "  inflating: /content/videos/train_video/free_footage_11c_preview.mp4  \n",
            "  inflating: /content/videos/train_video/Gardenstock_10_Videvo_preview.mp4  \n",
            "  inflating: /content/videos/train_video/GARDEN_SUMMER_2_preview.mp4  \n",
            "  inflating: /content/videos/train_video/Georgia Okefenokee cypress trees against orange sky_preview.mp4  \n",
            "  inflating: /content/videos/train_video/Georgia Okefenokee reflections in scummy water pan_preview.mp4  \n",
            "  inflating: /content/videos/train_video/Germany curving row in fruit orchard_preview.mp4  \n",
            "  inflating: /content/videos/train_video/Germany mud and grass in the Wadden Sea_preview.mp4  \n",
            "  inflating: /content/videos/train_video/Germany river in Berchtesgaden zooms in_preview.mp4  \n",
            "  inflating: /content/videos/train_video/Germany Tangermunde Rathhous and statue of Grete Munde beyond flowers_preview.mp4  \n",
            "  inflating: /content/videos/train_video/Germany Wismar buildings by the harbor with sidewalk cafe_preview.mp4  \n",
            "  inflating: /content/videos/train_video/Germany Wismar traffic and election poster_preview.mp4  \n",
            "  inflating: /content/videos/train_video/GirlinWaves_preview.mp4  \n",
            "  inflating: /content/videos/train_video/Greece Crete Aegean Sea with tourist on rock_preview.mp4  \n",
            "  inflating: /content/videos/train_video/GREEN_SCREEN_ANIMALS__ALPACA_preview.mp4  \n",
            "  inflating: /content/videos/train_video/greypass009_preview.mp4  \n",
            "  inflating: /content/videos/train_video/guadeloupe_urchins_lobster_preview.mp4  \n",
            "  inflating: /content/videos/train_video/Guatemala tugboat in late evening_preview.mp4  \n",
            "  inflating: /content/videos/train_video/hd0213_preview.mp4  \n",
            "  inflating: /content/videos/train_video/HS016_preview.mp4  \n",
            "  inflating: /content/videos/train_video/Idaho Shoshone Falls in fall with trees_preview.mp4  \n",
            "  inflating: /content/videos/train_video/Idaho view of Shoshone Falls_preview.mp4  \n",
            "  inflating: /content/videos/train_video/Ireland sheep on slope_preview.mp4  \n",
            "  inflating: /content/videos/train_video/Ireland snapdragons and leaves_preview.mp4  \n",
            "  inflating: /content/videos/train_video/Italy Po Valley under clouds_preview.mp4  \n",
            "  inflating: /content/videos/train_video/Jellyfish moves toward rocks_preview.mp4  \n",
            "  inflating: /content/videos/train_video/lake_waves_and_boats_people__free_12s_preview.mp4  \n",
            "  inflating: /content/videos/train_video/Lavender_CCBY_NatureClip_preview.mp4  \n",
            "  inflating: /content/videos/train_video/Limousin_Cows_1__VIdevo_preview.mp4  \n",
            "  inflating: /content/videos/train_video/LobsterinTankH264_preview.mp4  \n",
            "  inflating: /content/videos/train_video/Los Angeles skyline getting darker time lapse_preview.mp4  \n",
            "  inflating: /content/videos/train_video/Louisiana Mississippi ferry leaving dock_preview.mp4  \n",
            "  inflating: /content/videos/train_video/Louisiana pink snapdragon_preview.mp4  \n",
            "  inflating: /content/videos/train_video/Louisiana swamp boardwalk with man on scooter_preview.mp4  \n",
            "  inflating: /content/videos/train_video/Luna_00001_preview.mp4  \n",
            "  inflating: /content/videos/train_video/MelbourneCBD1H264_preview.mp4  \n",
            "  inflating: /content/videos/train_video/Mexico Guanajuato statue and people_preview.mp4  \n",
            "  inflating: /content/videos/train_video/Mexico Huatulco flowers and people_preview.mp4  \n",
            "  inflating: /content/videos/train_video/Mexico Huatulco looking down on beach and town_preview.mp4  \n",
            "  inflating: /content/videos/train_video/Mexico Huatulco man rides scooter on walkway_preview.mp4  \n",
            "  inflating: /content/videos/train_video/Mexico San Julian flowers and bicycles_preview.mp4  \n",
            "  inflating: /content/videos/train_video/Mississippi National Forest sign with dogwood_preview.mp4  \n",
            "  inflating: /content/videos/train_video/Montana cloud moving over snowy mountain_preview.mp4  \n",
            "  inflating: /content/videos/train_video/Montana clouds over trees_preview.mp4  \n",
            "  inflating: /content/videos/train_video/Montana mountains from the plains_preview.mp4  \n",
            "  inflating: /content/videos/train_video/Montana traffic on road past East Glacier town_preview.mp4  \n",
            "  inflating: /content/videos/train_video/motionplaces flower-Oct2018_preview.mp4  \n",
            "  inflating: /content/videos/train_video/Mykonos_2_preview.mp4  \n",
            "  inflating: /content/videos/train_video/Mykonos_5_preview.mp4  \n",
            "  inflating: /content/videos/train_video/Nature rippling water_preview.mp4  \n",
            "  inflating: /content/videos/train_video/New Orleans Commanders Palace in Garden District_preview.mp4  \n",
            "  inflating: /content/videos/train_video/New Orleans French Quarter line and bike evening_preview.mp4  \n",
            "  inflating: /content/videos/train_video/New Zealand clouds on horizon_preview.mp4  \n",
            "  inflating: /content/videos/train_video/New Zealand clouds over Mt Cook time lapse_preview.mp4  \n",
            "  inflating: /content/videos/train_video/New Zealand mountains and clouds_preview.mp4  \n",
            "  inflating: /content/videos/train_video/New Zealand two types of clouds sun rays time lapse_preview.mp4  \n",
            "  inflating: /content/videos/train_video/Northern Ireland Antrim zooms on tiny tide pool_preview.mp4  \n",
            "  inflating: /content/videos/train_video/Oregon Columbia River backwater with dead branch pan_preview.mp4  \n",
            "  inflating: /content/videos/train_video/Oregon Deschutes River with huge rock_preview.mp4  \n",
            "  inflating: /content/videos/train_video/Oregon Portland south park art museum_preview.mp4  \n",
            "  inflating: /content/videos/train_video/P1000227_Trim_1591402552_preview.mp4  \n",
            "  inflating: /content/videos/train_video/P1250020_00_00_0100_00_06_preview.mp4  \n",
            "  inflating: /content/videos/train_video/PiccadillyCircusNightVidevo_preview.mp4  \n",
            "  inflating: /content/videos/train_video/PlayingWithPlane_preview.mp4  \n",
            "  inflating: /content/videos/train_video/PoliceBoatPatrollingHarbour2Videvo_preview.mp4  \n",
            "  inflating: /content/videos/train_video/Porto_sunrise_preview.mp4  \n",
            "  inflating: /content/videos/train_video/Rainbow_timelapse_CCBY_NatureClip_preview.mp4  \n",
            "  inflating: /content/videos/train_video/rifugio_becco_preview.mp4  \n",
            "  inflating: /content/videos/train_video/River_preview.mp4  \n",
            "  inflating: /content/videos/train_video/RooftopClouds_preview.mp4  \n",
            "  inflating: /content/videos/train_video/rover_and_rocks_medium_preview.mp4  \n",
            "  inflating: /content/videos/train_video/Samoa throwing coconuts_preview.mp4  \n",
            "  inflating: /content/videos/train_video/ScenicOceanBeach_1_preview.mp4  \n",
            "  inflating: /content/videos/train_video/Sequence_01_preview.mp4  \n",
            "  inflating: /content/videos/train_video/Small_river_preview.mp4  \n",
            "  inflating: /content/videos/train_video/Sqirrel_Eats_Close_preview.mp4  \n",
            "  inflating: /content/videos/train_video/Sqirrel_Eats_Wide_preview.mp4  \n",
            "  inflating: /content/videos/train_video/Squirrel_Monkey_on_Breach_preview.mp4  \n",
            "  inflating: /content/videos/train_video/Taveta_Weaver_CloseUp_preview.mp4  \n",
            "  inflating: /content/videos/train_video/the_beach_preview.mp4  \n",
            "  inflating: /content/videos/train_video/TL_3_h264420_1080p_HQ_preview.mp4  \n",
            "  inflating: /content/videos/train_video/Venice_Sunset_HDmovie_1591370022_preview.mp4  \n",
            "  inflating: /content/videos/train_video/Water_3_150fps_videvo_preview.mp4  \n",
            "  inflating: /content/videos/train_video/water_bubbles_preview.mp4  \n",
            "  inflating: /content/videos/train_video/Waves_over_sand_at_dusk__Videvo_preview.mp4  \n",
            "  inflating: /content/videos/train_video/Weeds and moving water_preview.mp4  \n",
            "  inflating: /content/videos/train_video/Wind Turbine 2-Stock Video_preview.mp4  \n",
            "  inflating: /content/videos/train_video/Yellowstone lower falls of the river_preview.mp4  \n",
            "  inflating: /content/videos/train_video/_Argentina a cloud after sunset over Fitz Roy_preview.mp4  \n",
            "  inflating: /content/videos/train_video/_Argentina cloud above church_preview.mp4  \n",
            "  inflating: /content/videos/train_video/_Argentina Purmamarca zooms on market cart_preview.mp4  \n",
            "  inflating: /content/videos/train_video/_Argentina Salta cloud over tobacco field_preview.mp4  \n",
            "  inflating: /content/videos/train_video/_California couple inspect a blooming Beavertail cactus_preview.mp4  \n",
            "  inflating: /content/videos/train_video/_California San Francisco men turn cable car_preview.mp4  \n",
            "  inflating: /content/videos/train_video/_California San Francisco passing commercial buildings_preview.mp4  \n",
            "  inflating: /content/videos/train_video/_California San Francisco streetcar and bikes_preview.mp4  \n",
            "  inflating: /content/videos/train_video/_California San Francisco streets in shadow_preview.mp4  \n",
            "  inflating: /content/videos/train_video/_California San Francisco traffic with bicycle and busses_preview.mp4  \n",
            "  inflating: /content/videos/train_video/_Georgia cars pass on country highway_preview.mp4  \n",
            "  inflating: /content/videos/train_video/_Illinois small town main street_preview.mp4  \n",
            "  inflating: /content/videos/train_video/_import_60646ce3ac9429.36732825_preview.mp4  \n",
            "  inflating: /content/videos/train_video/_import_6065c421dd66b8.88923114_preview.mp4  \n",
            "  inflating: /content/videos/train_video/_import_6065c57bb19250.58566001_preview.mp4  \n",
            "  inflating: /content/videos/train_video/_import_60bf1b2460e635.70222225_preview.mp4  \n",
            "  inflating: /content/videos/train_video/_import_60bf2490d519d8.48380607_preview.mp4  \n",
            "  inflating: /content/videos/train_video/_import_60c45a35cbc233.33813190_preview.mp4  \n",
            "  inflating: /content/videos/train_video/_import_60cc306eb3ab91.13245739_preview.mp4  \n",
            "  inflating: /content/videos/train_video/_import_60d02948d5d725.11253653_preview.mp4  \n",
            "  inflating: /content/videos/train_video/_import_60d0300d31a395.58288371_preview.mp4  \n",
            "  inflating: /content/videos/train_video/_import_60dd4fe459e568.98073769_preview.mp4  \n",
            "  inflating: /content/videos/train_video/_import_60e1438143f817.17126516_preview.mp4  \n",
            "  inflating: /content/videos/train_video/_import_60e1445b155109.47450302_preview.mp4  \n",
            "  inflating: /content/videos/train_video/_import_60ee7b38b64dd9.92365586_preview.mp4  \n",
            "  inflating: /content/videos/train_video/_import_60ee8c5e26e572.61397245_preview.mp4  \n",
            "  inflating: /content/videos/train_video/_import_610116784e1d62.13056130_preview.mp4  \n",
            "  inflating: /content/videos/train_video/_import_61289a56d4c477.72334296_preview.mp4  \n",
            "  inflating: /content/videos/train_video/_import_61289b8fc2d065.45490606_preview.mp4  \n",
            "  inflating: /content/videos/train_video/_import_613c3e41a95833.35503967_preview.mp4  \n",
            "  inflating: /content/videos/train_video/_import_613c654a17ad52.70715239_preview.mp4  \n",
            "  inflating: /content/videos/train_video/_import_613c6de5ee0846.60838525_preview.mp4  \n",
            "  inflating: /content/videos/train_video/_import_614eec7a926421.45456331_preview.mp4  \n",
            "  inflating: /content/videos/train_video/_import_614ef0949b5446.23214321_preview.mp4  \n",
            "  inflating: /content/videos/train_video/_import_614efddbd19516.60448217_preview.mp4  \n",
            "  inflating: /content/videos/train_video/_import_614f0884e972e2.19041194_preview.mp4  \n",
            "  inflating: /content/videos/train_video/_import_615fd719c295d0.10594294_preview.mp4  \n",
            "  inflating: /content/videos/train_video/_import_6163cde71fb1f5.20419284_preview.mp4  \n",
            "  inflating: /content/videos/train_video/_import_61654deeef5b64.29911119_preview.mp4  \n",
            "  inflating: /content/videos/train_video/_import_6167bc5d382852.84834620_preview.mp4  \n",
            "  inflating: /content/videos/train_video/_import_616e5ebb6151f5.55336006_preview.mp4  \n",
            "  inflating: /content/videos/train_video/_import_616e5f6d5657b8.14622698_preview.mp4  \n",
            "  inflating: /content/videos/train_video/_import_616e6f098a5c54.58213374_preview.mp4  \n",
            "  inflating: /content/videos/train_video/_import_616e761dd634a8.19634608_preview.mp4  \n",
            "  inflating: /content/videos/train_video/_import_616e7f78a17260.13545125_preview.mp4  \n",
            "  inflating: /content/videos/train_video/_import_616e8403090515.37900575_preview.mp4  \n",
            "  inflating: /content/videos/train_video/_import_6177e0cf8036a4.37473265_preview.mp4  \n",
            "  inflating: /content/videos/train_video/_import_61784fbeb50dd0.74414094_preview.mp4  \n",
            "  inflating: /content/videos/train_video/_import_6184dfdc4a70a6.83520120_preview.mp4  \n",
            "  inflating: /content/videos/train_video/_import_61c96e0214e918.38022068_preview.mp4  \n",
            "  inflating: /content/videos/train_video/_import_61dd13ed2cad44.96373891_preview.mp4  \n",
            "  inflating: /content/videos/train_video/_import_61de6244083ac0.96033932_preview.mp4  \n",
            "  inflating: /content/videos/train_video/_import_61de62f29214e6.07423532_preview.mp4  \n",
            "  inflating: /content/videos/train_video/_import_61eb903d4d7c42.69975501_preview.mp4  \n",
            "  inflating: /content/videos/train_video/_import_61fa0fe6012086.49186503_preview.mp4  \n",
            "  inflating: /content/videos/train_video/_import_6207416ea00a28.78733137_preview.mp4  \n",
            "  inflating: /content/videos/train_video/_import_623563d066c5a7.19754478_preview.mp4  \n",
            "  inflating: /content/videos/train_video/_import_627a05b8bba559.48832708_preview.mp4  \n",
            "  inflating: /content/videos/train_video/_import_628dc39bae13e6.08897269_preview.mp4  \n",
            "  inflating: /content/videos/train_video/_import_62a30c94ebd558.82088264_preview.mp4  \n",
            "  inflating: /content/videos/train_video/_import_62a30d102a7524.67788324_preview.mp4  \n",
            "  inflating: /content/videos/train_video/_import_62a30e774d71a7.11740613_preview.mp4  \n",
            "  inflating: /content/videos/train_video/_import_62a3141f4b2347.28274638_preview.mp4  \n",
            "  inflating: /content/videos/train_video/_import_62a314e3575bd8.79997499_preview.mp4  \n",
            "  inflating: /content/videos/train_video/_import_62a317a25b1948.52092175_preview.mp4  \n",
            "  inflating: /content/videos/train_video/_import_62a3185725f401.40534811_preview.mp4  \n",
            "  inflating: /content/videos/train_video/_import_62a42f010c5739.50703197_preview.mp4  \n",
            "  inflating: /content/videos/train_video/_import_62a43699b31a84.52474335_preview.mp4  \n",
            "  inflating: /content/videos/train_video/_import_62a584fa595768.31556786_preview.mp4  \n",
            "  inflating: /content/videos/train_video/_import_62a58dfa0a2971.36532340_preview.mp4  \n",
            "  inflating: /content/videos/train_video/_import_62ad8960dcd171.05889245_preview.mp4  \n",
            "  inflating: /content/videos/train_video/_import_62aec5c7f1c230.84098795_preview.mp4  \n",
            "  inflating: /content/videos/train_video/_import_62aec63ac22bb7.85561144_preview.mp4  \n",
            "  inflating: /content/videos/train_video/_import_62aecdb5e85316.67090481_preview.mp4  \n",
            "  inflating: /content/videos/train_video/_import_62b00c435e3261.15265927_preview.mp4  \n",
            "  inflating: /content/videos/train_video/_import_62b0222fe9e2f6.59740247_preview.mp4  \n",
            "  inflating: /content/videos/train_video/_import_62b0244d09af01.32593025_preview.mp4  \n",
            "  inflating: /content/videos/train_video/_import_62ba93f5c1a178.10596314_preview.mp4  \n",
            "  inflating: /content/videos/train_video/_import_62bbf158a280a4.97325197_preview.mp4  \n",
            "  inflating: /content/videos/train_video/_import_62bbf21eafbd40.36684572_preview.mp4  \n",
            "  inflating: /content/videos/train_video/_import_62bbf47605de44.36784975_preview.mp4  \n",
            "  inflating: /content/videos/train_video/_import_62bd3f44432c89.21660927_preview.mp4  \n",
            "  inflating: /content/videos/train_video/_import_62bff14a61f762.48345820_preview.mp4  \n",
            "  inflating: /content/videos/train_video/_import_62bff30ce09103.56298710_preview.mp4  \n",
            "  inflating: /content/videos/train_video/_import_62c12501cd3f30.82606984_preview.mp4  \n",
            "  inflating: /content/videos/train_video/_import_62c13eca8a91d0.54432958_preview.mp4  \n",
            "  inflating: /content/videos/train_video/_import_62c1423a8d2765.91564446_preview.mp4  \n",
            "  inflating: /content/videos/train_video/_import_62c144f8bceab5.22089619_preview.mp4  \n",
            "  inflating: /content/videos/train_video/_import_62c66a318912d7.10566061_preview.mp4  \n",
            "  inflating: /content/videos/train_video/_import_62c66f266e5c22.05088660_preview.mp4  \n",
            "  inflating: /content/videos/train_video/_import_62c7ce01046979.01307962_preview.mp4  \n",
            "  inflating: /content/videos/train_video/_import_62ca6b3eeb5426.00786373_preview.mp4  \n",
            "  inflating: /content/videos/train_video/_import_62ca6cee1e5783.29058702_preview.mp4  \n",
            "  inflating: /content/videos/train_video/_Iowa an autumn view toward the Missouri River_preview.mp4  \n",
            "  inflating: /content/videos/train_video/_Iowa Burlington rail yards with train_preview.mp4  \n",
            "  inflating: /content/videos/train_video/_New York Goshen street scene with school bus_preview.mp4  \n",
            "  inflating: /content/videos/train_video/_North Carolina tilts up fall trees_preview.mp4  \n",
            "  inflating: /content/videos/train_video/_North Carolina view at Mile High Overlook_preview.mp4  \n",
            "  inflating: /content/videos/train_video/_Pennsylvania West Chester street_preview.mp4  \n",
            "  inflating: /content/videos/train.csv  \n"
          ]
        }
      ],
      "source": [
        "!unzip /content/drive/MyDrive/Video_clf/filter_videos.zip -d /content/videos"
      ]
    },
    {
      "cell_type": "code",
      "execution_count": null,
      "metadata": {
        "id": "HAeojTTRJywJ",
        "tags": []
      },
      "outputs": [],
      "source": [
        "import os\n",
        "import sys\n",
        "import re\n",
        "import gc\n",
        "import platform\n",
        "import random\n",
        "\n",
        "import numpy as np\n",
        "import pandas as pd\n",
        "from tqdm import tqdm\n",
        "\n",
        "import torch\n",
        "import torch.nn as nn\n",
        "import torch.nn.functional as F\n",
        "from torch.utils.data import DataLoader, Dataset\n",
        "from torch.cuda.amp import autocast, GradScaler\n",
        "from torch.optim.lr_scheduler import CosineAnnealingWarmRestarts, CosineAnnealingLR, ReduceLROnPlateau\n",
        "\n",
        "import einops\n",
        "\n",
        "from sklearn.metrics import roc_auc_score\n",
        "from sklearn.model_selection import StratifiedKFold, train_test_split\n",
        "\n",
        "import timm\n",
        "import glob\n",
        "import cv2\n",
        "\n",
        "from rich import print as _pprint\n",
        "from rich.progress import track\n",
        "\n",
        "import albumentations as A\n",
        "from albumentations.pytorch import ToTensorV2\n",
        "\n",
        "import wandb\n",
        "\n",
        "import warnings\n",
        "warnings.simplefilter('ignore')"
      ]
    },
    {
      "cell_type": "code",
      "source": [
        "with open('tasks/4_2.txt', 'r') as file:\n",
        "    str_list = file.read().split('\\n')[:-1]\n",
        "    min_count = 10 ** 6\n",
        "    str_index = 0\n",
        "    for i in range(len(str_list)):\n",
        "        if str_list[i].count('A') < min_count:\n",
        "            min_count = str_list[i].count('A')\n",
        "            str_index = i\n",
        "    str_set = set(str_list[str_index])\n",
        "    max_letter = 0\n",
        "    letter_dict = {}\n",
        "    for element in str_set:\n",
        "        count = str_list[str_index].count(element)\n",
        "        if count >= max_letter:\n",
        "            max_letter = count\n",
        "            letter_dict[element] = count\n",
        "    filtered_dict = {}\n",
        "    for key in letter_dict:\n",
        "        if letter_dict[key] == max_letter:\n",
        "            filtered_dict[key] = letter_dict[key]\n",
        "    dict_key = sorted(filtered_dict.keys())[-1]\n",
        "    print(dict_key, letter_dict[dict_key])"
      ],
      "metadata": {
        "colab": {
          "base_uri": "https://localhost:8080/"
        },
        "id": "5SHAL4VDk_la",
        "outputId": "3eb3b63b-4b0b-42f4-9ee7-1b8d58a08b9e"
      },
      "execution_count": null,
      "outputs": [
        {
          "output_type": "stream",
          "name": "stdout",
          "text": [
            "0.015004634857177734\n"
          ]
        },
        {
          "output_type": "execute_result",
          "data": {
            "text/plain": [
              "(4937, 42595)"
            ]
          },
          "metadata": {},
          "execution_count": 65
        }
      ]
    },
    {
      "cell_type": "markdown",
      "metadata": {
        "id": "ZwZQ-EpFJywJ"
      },
      "source": [
        "<div class=\"alert alert-success\">\n",
        "    <h2 align='center'>⛽ Utility Functions </h2>\n",
        "</div>"
      ]
    },
    {
      "cell_type": "code",
      "execution_count": null,
      "metadata": {
        "_kg_hide-input": true,
        "id": "8Q7GG5YOJywJ",
        "tags": []
      },
      "outputs": [],
      "source": [
        "def get_patient_id(patient_id):\n",
        "    if patient_id < 10:\n",
        "        return '0000'+str(patient_id)\n",
        "    elif patient_id >= 10 and patient_id < 100:\n",
        "        return '000'+str(patient_id)\n",
        "    elif patient_id >= 100 and patient_id < 1000:\n",
        "        return '00'+str(patient_id)\n",
        "    else:\n",
        "        return '0'+str(patient_id)\n",
        "\n",
        "def get_path(row):\n",
        "    patient_id = get_patient_id(row.BraTS21ID)\n",
        "    return f'../input/rsna-miccai-png/train/{patient_id}/FLAIR/'\n",
        "\n",
        "def wandb_log(**kwargs):\n",
        "    \"\"\"\n",
        "    Logs a key-value pair to W&B\n",
        "    \"\"\"\n",
        "    for k, v in kwargs.items():\n",
        "        wandb.log({k: v})\n",
        "\n",
        "def cprint(string):\n",
        "    \"\"\"\n",
        "    Utility function for beautiful colored printing.\n",
        "    \"\"\"\n",
        "    _pprint(f\"[black]{string}[/black]\")"
      ]
    },
    {
      "cell_type": "markdown",
      "metadata": {
        "id": "4rdafL5ZJywJ"
      },
      "source": [
        "<div class=\"alert alert-success\">\n",
        "    <h2 align='center'>🚀 Config Dictionary and W&B Integration </h2>\n",
        "</div>"
      ]
    },
    {
      "cell_type": "code",
      "execution_count": null,
      "metadata": {
        "id": "9H_RnNK6JywJ",
        "tags": []
      },
      "outputs": [],
      "source": [
        "Config = dict(\n",
        "    MAX_FRAMES = 12,\n",
        "    EPOCHS = 5,\n",
        "    LR = 2e-4,\n",
        "    IMG_SIZE = (224, 224),\n",
        "    FEATURE_EXTRACTOR = 'resnext101_64x4d',\n",
        "    DR_RATE = 0.35,\n",
        "    NUM_CLASSES = 12,\n",
        "    RNN_HIDDEN_SIZE = 256,\n",
        "    RNN_LAYERS = 2,\n",
        "    TRAIN_BS = 10,\n",
        "    VALID_BS = 10,\n",
        "    NUM_WORKERS = 4,\n",
        "\n",
        "    _wandb_kernel = 'tanaym'\n",
        ")"
      ]
    },
    {
      "cell_type": "markdown",
      "metadata": {
        "id": "_RoRKrIAJywK"
      },
      "source": [
        "To login to W&B, you can use below snippet.\n",
        "\n",
        "```python\n",
        "from kaggle_secrets import UserSecretsClient\n",
        "user_secrets = UserSecretsClient()\n",
        "wb_key = user_secrets.get_secret(\"WANDB_API_KEY\")\n",
        "\n",
        "wandb.login(key=wb_key)\n",
        "```\n",
        "Make sure you have your W&B key stored as `WANDB_API_KEY` under Add-ons -> Secrets\n",
        "\n",
        "You can view [this](https://www.kaggle.com/ayuraj/experiment-tracking-with-weights-and-biases) notebook to learn more about W&B tracking.\n",
        "\n",
        "If you don't want to login to W&B, the kernel will still work and log everything to W&B in anonymous mode."
      ]
    },
    {
      "cell_type": "code",
      "execution_count": null,
      "metadata": {
        "colab": {
          "base_uri": "https://localhost:8080/",
          "height": 173
        },
        "id": "roC2x8XGJywK",
        "outputId": "0ded60a4-bbec-41be-881c-f56accb6dd45",
        "tags": []
      },
      "outputs": [
        {
          "output_type": "stream",
          "name": "stderr",
          "text": [
            "ERROR:wandb.jupyter:Failed to detect the name of this notebook, you can set it manually with the WANDB_NOTEBOOK_NAME environment variable to enable code saving.\n"
          ]
        },
        {
          "output_type": "display_data",
          "data": {
            "text/plain": [
              "<IPython.core.display.Javascript object>"
            ],
            "application/javascript": [
              "\n",
              "        window._wandbApiKey = new Promise((resolve, reject) => {\n",
              "            function loadScript(url) {\n",
              "            return new Promise(function(resolve, reject) {\n",
              "                let newScript = document.createElement(\"script\");\n",
              "                newScript.onerror = reject;\n",
              "                newScript.onload = resolve;\n",
              "                document.body.appendChild(newScript);\n",
              "                newScript.src = url;\n",
              "            });\n",
              "            }\n",
              "            loadScript(\"https://cdn.jsdelivr.net/npm/postmate/build/postmate.min.js\").then(() => {\n",
              "            const iframe = document.createElement('iframe')\n",
              "            iframe.style.cssText = \"width:0;height:0;border:none\"\n",
              "            document.body.appendChild(iframe)\n",
              "            const handshake = new Postmate({\n",
              "                container: iframe,\n",
              "                url: 'https://wandb.ai/authorize'\n",
              "            });\n",
              "            const timeout = setTimeout(() => reject(\"Couldn't auto authenticate\"), 5000)\n",
              "            handshake.then(function(child) {\n",
              "                child.on('authorize', data => {\n",
              "                    clearTimeout(timeout)\n",
              "                    resolve(data)\n",
              "                });\n",
              "            });\n",
              "            })\n",
              "        });\n",
              "    "
            ]
          },
          "metadata": {}
        },
        {
          "output_type": "stream",
          "name": "stderr",
          "text": [
            "\u001b[34m\u001b[1mwandb\u001b[0m: Logging into wandb.ai. (Learn how to deploy a W&B server locally: https://wandb.me/wandb-server)\n",
            "\u001b[34m\u001b[1mwandb\u001b[0m: You can find your API key in your browser here: https://wandb.ai/authorize\n",
            "wandb: Paste an API key from your profile and hit enter, or press ctrl+c to quit: "
          ]
        },
        {
          "name": "stdout",
          "output_type": "stream",
          "text": [
            "··········\n"
          ]
        },
        {
          "output_type": "stream",
          "name": "stderr",
          "text": [
            "\u001b[34m\u001b[1mwandb\u001b[0m: Appending key for api.wandb.ai to your netrc file: /root/.netrc\n"
          ]
        },
        {
          "output_type": "display_data",
          "data": {
            "text/plain": [
              "<IPython.core.display.HTML object>"
            ],
            "text/html": [
              "Tracking run with wandb version 0.13.6"
            ]
          },
          "metadata": {}
        },
        {
          "output_type": "display_data",
          "data": {
            "text/plain": [
              "<IPython.core.display.HTML object>"
            ],
            "text/html": [
              "Run data is saved locally in <code>/content/wandb/run-20221209_210233-2h9c22j7</code>"
            ]
          },
          "metadata": {}
        },
        {
          "output_type": "display_data",
          "data": {
            "text/plain": [
              "<IPython.core.display.HTML object>"
            ],
            "text/html": [
              "Syncing run <strong><a href=\"https://wandb.ai/floppa1/pytorch/runs/2h9c22j7\" target=\"_blank\">pretty-frost-94</a></strong> to <a href=\"https://wandb.ai/floppa1/pytorch\" target=\"_blank\">Weights & Biases</a> (<a href=\"https://wandb.me/run\" target=\"_blank\">docs</a>)<br/>"
            ]
          },
          "metadata": {}
        }
      ],
      "source": [
        "run = wandb.init(\n",
        "    project='pytorch',\n",
        "    config=Config,\n",
        "    job_type='train',\n",
        ")"
      ]
    },
    {
      "cell_type": "code",
      "execution_count": null,
      "metadata": {
        "id": "7xQsjKjuJywK",
        "tags": []
      },
      "outputs": [],
      "source": [
        "import io\n",
        "import os\n",
        "import PIL\n",
        "import random\n",
        "import numpy as np\n",
        "import torch\n",
        "import torchvision\n",
        "import more_itertools\n",
        "import numpy as np\n",
        "import matplotlib.pyplot as plt\n",
        "from tqdm import tqdm\n",
        "import pandas as pd\n",
        "from torch.utils.data import Dataset\n",
        "from tqdm import tqdm\n",
        "from dataclasses import dataclass, field\n",
        "import torchvision.transforms as T\n",
        "import torchvision.transforms.functional as TF\n",
        "import cv2\n",
        "from PIL import Image\n",
        "import pickle\n",
        "from tqdm.contrib import tzip\n",
        "from tqdm.notebook import tqdm\n",
        "class Augments:\n",
        "    \"\"\"\n",
        "    Contains Train, Validation Augments\n",
        "    \"\"\"\n",
        "    train_augments = A.Compose([\n",
        "        ToTensorV2(p=1.0),\n",
        "    ],p=1.)\n",
        "\n",
        "    valid_augments = A.Compose([\n",
        "        ToTensorV2(p=1.0),\n",
        "    ], p=1.)\n",
        "\n",
        "\n",
        "def read_video(path, transform=None, frames_num=6):\n",
        "    frames = []\n",
        "    cap = cv2.VideoCapture(path)\n",
        "\n",
        "    fps = int(cap.get(cv2.CAP_PROP_FPS))\n",
        "\n",
        "    length = int(cap.get(cv2.CAP_PROP_FRAME_COUNT))\n",
        "    N = length//(frames_num)\n",
        "\n",
        "\n",
        "    current_frame = 1\n",
        "    for i in range(length):\n",
        "        ret, frame = cap.read(current_frame)\n",
        "\n",
        "        if ret and i==current_frame and len(frames)<frames_num:\n",
        "\n",
        "            frame = cv2.cvtColor(frame, cv2.COLOR_BGR2RGB)\n",
        "            frame = cv2.resize(frame, Config['IMG_SIZE'])\n",
        "\n",
        "            frames.append(frame)\n",
        "            current_frame += N\n",
        "\n",
        "    cap.release()\n",
        "    #print(frames)\n",
        "    return frames"
      ]
    },
    {
      "cell_type": "markdown",
      "metadata": {
        "id": "tCJ6B3jhJywK"
      },
      "source": [
        "<div class=\"alert alert-success\">\n",
        "    <h2 align='center'>💻 Custom Dataset Class</h2>\n",
        "</div>\n",
        "\n",
        "<div class=\"alert alert-block alert-info\" style=\"font-size:14px; font-family:verdana; line-height: 1.7em;\">\n",
        "    📌 In this custom Dataset, I am essentially reading \"MAX_FRAMES\" number of images from a patient's FLAIR folder and making list of those frames and converting it to torch tensor.\n",
        "</div>"
      ]
    },
    {
      "cell_type": "code",
      "execution_count": null,
      "metadata": {
        "id": "W2L7jnnORm0K"
      },
      "outputs": [],
      "source": [
        "df = pd.read_csv('/content/videos/train.csv')"
      ]
    },
    {
      "cell_type": "code",
      "source": [
        "def clean_dataset(df: pd.DataFrame, paths2video=os.listdir('/content/videos/train_video/')):\n",
        "  new_dict = {\n",
        "      'path': [],\n",
        "      'label': []\n",
        "  }\n",
        "  for _, path, label in df.values:\n",
        "    if path not in paths2video:\n",
        "      continue\n",
        "    new_dict['path'] += [path]\n",
        "    new_dict['label'] += [str(label.split(';')[0])]\n",
        "  return pd.DataFrame(new_dict)\n",
        "df = clean_dataset(df)"
      ],
      "metadata": {
        "id": "0BdoqqkFtgHE"
      },
      "execution_count": null,
      "outputs": []
    },
    {
      "cell_type": "code",
      "execution_count": null,
      "metadata": {
        "colab": {
          "base_uri": "https://localhost:8080/",
          "height": 206
        },
        "id": "xKraNg8JsIKY",
        "outputId": "18f20c66-b77b-43a1-e27d-4d2bd2ba9be0"
      },
      "outputs": [
        {
          "output_type": "execute_result",
          "data": {
            "text/plain": [
              "                                                path   label\n",
              "0  Georgia Okefenokee reflections in scummy water...   water\n",
              "1            motionplaces flower-Oct2018_preview.mp4  flower\n",
              "2        _import_6065c421dd66b8.88923114_preview.mp4    food\n",
              "3                    170804_C_Lombok_026_preview.mp4   water\n",
              "4        _import_62a3141f4b2347.28274638_preview.mp4   dance"
            ],
            "text/html": [
              "\n",
              "  <div id=\"df-c18d3ad5-65b5-4aea-8410-e47c24a0bc5d\">\n",
              "    <div class=\"colab-df-container\">\n",
              "      <div>\n",
              "<style scoped>\n",
              "    .dataframe tbody tr th:only-of-type {\n",
              "        vertical-align: middle;\n",
              "    }\n",
              "\n",
              "    .dataframe tbody tr th {\n",
              "        vertical-align: top;\n",
              "    }\n",
              "\n",
              "    .dataframe thead th {\n",
              "        text-align: right;\n",
              "    }\n",
              "</style>\n",
              "<table border=\"1\" class=\"dataframe\">\n",
              "  <thead>\n",
              "    <tr style=\"text-align: right;\">\n",
              "      <th></th>\n",
              "      <th>path</th>\n",
              "      <th>label</th>\n",
              "    </tr>\n",
              "  </thead>\n",
              "  <tbody>\n",
              "    <tr>\n",
              "      <th>0</th>\n",
              "      <td>Georgia Okefenokee reflections in scummy water...</td>\n",
              "      <td>water</td>\n",
              "    </tr>\n",
              "    <tr>\n",
              "      <th>1</th>\n",
              "      <td>motionplaces flower-Oct2018_preview.mp4</td>\n",
              "      <td>flower</td>\n",
              "    </tr>\n",
              "    <tr>\n",
              "      <th>2</th>\n",
              "      <td>_import_6065c421dd66b8.88923114_preview.mp4</td>\n",
              "      <td>food</td>\n",
              "    </tr>\n",
              "    <tr>\n",
              "      <th>3</th>\n",
              "      <td>170804_C_Lombok_026_preview.mp4</td>\n",
              "      <td>water</td>\n",
              "    </tr>\n",
              "    <tr>\n",
              "      <th>4</th>\n",
              "      <td>_import_62a3141f4b2347.28274638_preview.mp4</td>\n",
              "      <td>dance</td>\n",
              "    </tr>\n",
              "  </tbody>\n",
              "</table>\n",
              "</div>\n",
              "      <button class=\"colab-df-convert\" onclick=\"convertToInteractive('df-c18d3ad5-65b5-4aea-8410-e47c24a0bc5d')\"\n",
              "              title=\"Convert this dataframe to an interactive table.\"\n",
              "              style=\"display:none;\">\n",
              "        \n",
              "  <svg xmlns=\"http://www.w3.org/2000/svg\" height=\"24px\"viewBox=\"0 0 24 24\"\n",
              "       width=\"24px\">\n",
              "    <path d=\"M0 0h24v24H0V0z\" fill=\"none\"/>\n",
              "    <path d=\"M18.56 5.44l.94 2.06.94-2.06 2.06-.94-2.06-.94-.94-2.06-.94 2.06-2.06.94zm-11 1L8.5 8.5l.94-2.06 2.06-.94-2.06-.94L8.5 2.5l-.94 2.06-2.06.94zm10 10l.94 2.06.94-2.06 2.06-.94-2.06-.94-.94-2.06-.94 2.06-2.06.94z\"/><path d=\"M17.41 7.96l-1.37-1.37c-.4-.4-.92-.59-1.43-.59-.52 0-1.04.2-1.43.59L10.3 9.45l-7.72 7.72c-.78.78-.78 2.05 0 2.83L4 21.41c.39.39.9.59 1.41.59.51 0 1.02-.2 1.41-.59l7.78-7.78 2.81-2.81c.8-.78.8-2.07 0-2.86zM5.41 20L4 18.59l7.72-7.72 1.47 1.35L5.41 20z\"/>\n",
              "  </svg>\n",
              "      </button>\n",
              "      \n",
              "  <style>\n",
              "    .colab-df-container {\n",
              "      display:flex;\n",
              "      flex-wrap:wrap;\n",
              "      gap: 12px;\n",
              "    }\n",
              "\n",
              "    .colab-df-convert {\n",
              "      background-color: #E8F0FE;\n",
              "      border: none;\n",
              "      border-radius: 50%;\n",
              "      cursor: pointer;\n",
              "      display: none;\n",
              "      fill: #1967D2;\n",
              "      height: 32px;\n",
              "      padding: 0 0 0 0;\n",
              "      width: 32px;\n",
              "    }\n",
              "\n",
              "    .colab-df-convert:hover {\n",
              "      background-color: #E2EBFA;\n",
              "      box-shadow: 0px 1px 2px rgba(60, 64, 67, 0.3), 0px 1px 3px 1px rgba(60, 64, 67, 0.15);\n",
              "      fill: #174EA6;\n",
              "    }\n",
              "\n",
              "    [theme=dark] .colab-df-convert {\n",
              "      background-color: #3B4455;\n",
              "      fill: #D2E3FC;\n",
              "    }\n",
              "\n",
              "    [theme=dark] .colab-df-convert:hover {\n",
              "      background-color: #434B5C;\n",
              "      box-shadow: 0px 1px 3px 1px rgba(0, 0, 0, 0.15);\n",
              "      filter: drop-shadow(0px 1px 2px rgba(0, 0, 0, 0.3));\n",
              "      fill: #FFFFFF;\n",
              "    }\n",
              "  </style>\n",
              "\n",
              "      <script>\n",
              "        const buttonEl =\n",
              "          document.querySelector('#df-c18d3ad5-65b5-4aea-8410-e47c24a0bc5d button.colab-df-convert');\n",
              "        buttonEl.style.display =\n",
              "          google.colab.kernel.accessAllowed ? 'block' : 'none';\n",
              "\n",
              "        async function convertToInteractive(key) {\n",
              "          const element = document.querySelector('#df-c18d3ad5-65b5-4aea-8410-e47c24a0bc5d');\n",
              "          const dataTable =\n",
              "            await google.colab.kernel.invokeFunction('convertToInteractive',\n",
              "                                                     [key], {});\n",
              "          if (!dataTable) return;\n",
              "\n",
              "          const docLinkHtml = 'Like what you see? Visit the ' +\n",
              "            '<a target=\"_blank\" href=https://colab.research.google.com/notebooks/data_table.ipynb>data table notebook</a>'\n",
              "            + ' to learn more about interactive tables.';\n",
              "          element.innerHTML = '';\n",
              "          dataTable['output_type'] = 'display_data';\n",
              "          await google.colab.output.renderOutput(dataTable, element);\n",
              "          const docLink = document.createElement('div');\n",
              "          docLink.innerHTML = docLinkHtml;\n",
              "          element.appendChild(docLink);\n",
              "        }\n",
              "      </script>\n",
              "    </div>\n",
              "  </div>\n",
              "  "
            ]
          },
          "metadata": {},
          "execution_count": 15
        }
      ],
      "source": [
        "df.head()"
      ]
    },
    {
      "cell_type": "code",
      "execution_count": null,
      "metadata": {
        "id": "ScBvKjHWRyWK"
      },
      "outputs": [],
      "source": [
        "from sklearn.model_selection import train_test_split\n",
        "X_train, X_test, y_train, y_test = train_test_split(df.path, df.label, test_size=0.2, random_state=4242)\n",
        "df_train = pd.DataFrame({'path':X_train, 'labels':y_train})\n",
        "df_test = pd.DataFrame({'path':X_test, 'labels':y_test})\n",
        "df_train.to_csv('train.csv')\n",
        "df_test.to_csv('test.csv')"
      ]
    },
    {
      "cell_type": "code",
      "execution_count": null,
      "metadata": {
        "colab": {
          "base_uri": "https://localhost:8080/",
          "height": 206
        },
        "id": "NdGXmirRVhg-",
        "outputId": "30338f1c-6578-4289-c748-ad3b05628762"
      },
      "outputs": [
        {
          "output_type": "execute_result",
          "data": {
            "text/plain": [
              "   Unnamed: 0                                               path  labels\n",
              "0         416  024686456-idaho-snake-river-thousand-fal_previ...   water\n",
              "1          52        _import_62a3185725f401.40534811_preview.mp4   dance\n",
              "2         293  France Revel Belledonne church and WWI statue_...   cloud\n",
              "3         149                      171124_C2_UHD_002_preview.mp4  sunset\n",
              "4         211            200923_03_Birmingham_4k_023_preview.mp4     car"
            ],
            "text/html": [
              "\n",
              "  <div id=\"df-4717ac19-f170-4730-8348-cc09c9853d7f\">\n",
              "    <div class=\"colab-df-container\">\n",
              "      <div>\n",
              "<style scoped>\n",
              "    .dataframe tbody tr th:only-of-type {\n",
              "        vertical-align: middle;\n",
              "    }\n",
              "\n",
              "    .dataframe tbody tr th {\n",
              "        vertical-align: top;\n",
              "    }\n",
              "\n",
              "    .dataframe thead th {\n",
              "        text-align: right;\n",
              "    }\n",
              "</style>\n",
              "<table border=\"1\" class=\"dataframe\">\n",
              "  <thead>\n",
              "    <tr style=\"text-align: right;\">\n",
              "      <th></th>\n",
              "      <th>Unnamed: 0</th>\n",
              "      <th>path</th>\n",
              "      <th>labels</th>\n",
              "    </tr>\n",
              "  </thead>\n",
              "  <tbody>\n",
              "    <tr>\n",
              "      <th>0</th>\n",
              "      <td>416</td>\n",
              "      <td>024686456-idaho-snake-river-thousand-fal_previ...</td>\n",
              "      <td>water</td>\n",
              "    </tr>\n",
              "    <tr>\n",
              "      <th>1</th>\n",
              "      <td>52</td>\n",
              "      <td>_import_62a3185725f401.40534811_preview.mp4</td>\n",
              "      <td>dance</td>\n",
              "    </tr>\n",
              "    <tr>\n",
              "      <th>2</th>\n",
              "      <td>293</td>\n",
              "      <td>France Revel Belledonne church and WWI statue_...</td>\n",
              "      <td>cloud</td>\n",
              "    </tr>\n",
              "    <tr>\n",
              "      <th>3</th>\n",
              "      <td>149</td>\n",
              "      <td>171124_C2_UHD_002_preview.mp4</td>\n",
              "      <td>sunset</td>\n",
              "    </tr>\n",
              "    <tr>\n",
              "      <th>4</th>\n",
              "      <td>211</td>\n",
              "      <td>200923_03_Birmingham_4k_023_preview.mp4</td>\n",
              "      <td>car</td>\n",
              "    </tr>\n",
              "  </tbody>\n",
              "</table>\n",
              "</div>\n",
              "      <button class=\"colab-df-convert\" onclick=\"convertToInteractive('df-4717ac19-f170-4730-8348-cc09c9853d7f')\"\n",
              "              title=\"Convert this dataframe to an interactive table.\"\n",
              "              style=\"display:none;\">\n",
              "        \n",
              "  <svg xmlns=\"http://www.w3.org/2000/svg\" height=\"24px\"viewBox=\"0 0 24 24\"\n",
              "       width=\"24px\">\n",
              "    <path d=\"M0 0h24v24H0V0z\" fill=\"none\"/>\n",
              "    <path d=\"M18.56 5.44l.94 2.06.94-2.06 2.06-.94-2.06-.94-.94-2.06-.94 2.06-2.06.94zm-11 1L8.5 8.5l.94-2.06 2.06-.94-2.06-.94L8.5 2.5l-.94 2.06-2.06.94zm10 10l.94 2.06.94-2.06 2.06-.94-2.06-.94-.94-2.06-.94 2.06-2.06.94z\"/><path d=\"M17.41 7.96l-1.37-1.37c-.4-.4-.92-.59-1.43-.59-.52 0-1.04.2-1.43.59L10.3 9.45l-7.72 7.72c-.78.78-.78 2.05 0 2.83L4 21.41c.39.39.9.59 1.41.59.51 0 1.02-.2 1.41-.59l7.78-7.78 2.81-2.81c.8-.78.8-2.07 0-2.86zM5.41 20L4 18.59l7.72-7.72 1.47 1.35L5.41 20z\"/>\n",
              "  </svg>\n",
              "      </button>\n",
              "      \n",
              "  <style>\n",
              "    .colab-df-container {\n",
              "      display:flex;\n",
              "      flex-wrap:wrap;\n",
              "      gap: 12px;\n",
              "    }\n",
              "\n",
              "    .colab-df-convert {\n",
              "      background-color: #E8F0FE;\n",
              "      border: none;\n",
              "      border-radius: 50%;\n",
              "      cursor: pointer;\n",
              "      display: none;\n",
              "      fill: #1967D2;\n",
              "      height: 32px;\n",
              "      padding: 0 0 0 0;\n",
              "      width: 32px;\n",
              "    }\n",
              "\n",
              "    .colab-df-convert:hover {\n",
              "      background-color: #E2EBFA;\n",
              "      box-shadow: 0px 1px 2px rgba(60, 64, 67, 0.3), 0px 1px 3px 1px rgba(60, 64, 67, 0.15);\n",
              "      fill: #174EA6;\n",
              "    }\n",
              "\n",
              "    [theme=dark] .colab-df-convert {\n",
              "      background-color: #3B4455;\n",
              "      fill: #D2E3FC;\n",
              "    }\n",
              "\n",
              "    [theme=dark] .colab-df-convert:hover {\n",
              "      background-color: #434B5C;\n",
              "      box-shadow: 0px 1px 3px 1px rgba(0, 0, 0, 0.15);\n",
              "      filter: drop-shadow(0px 1px 2px rgba(0, 0, 0, 0.3));\n",
              "      fill: #FFFFFF;\n",
              "    }\n",
              "  </style>\n",
              "\n",
              "      <script>\n",
              "        const buttonEl =\n",
              "          document.querySelector('#df-4717ac19-f170-4730-8348-cc09c9853d7f button.colab-df-convert');\n",
              "        buttonEl.style.display =\n",
              "          google.colab.kernel.accessAllowed ? 'block' : 'none';\n",
              "\n",
              "        async function convertToInteractive(key) {\n",
              "          const element = document.querySelector('#df-4717ac19-f170-4730-8348-cc09c9853d7f');\n",
              "          const dataTable =\n",
              "            await google.colab.kernel.invokeFunction('convertToInteractive',\n",
              "                                                     [key], {});\n",
              "          if (!dataTable) return;\n",
              "\n",
              "          const docLinkHtml = 'Like what you see? Visit the ' +\n",
              "            '<a target=\"_blank\" href=https://colab.research.google.com/notebooks/data_table.ipynb>data table notebook</a>'\n",
              "            + ' to learn more about interactive tables.';\n",
              "          element.innerHTML = '';\n",
              "          dataTable['output_type'] = 'display_data';\n",
              "          await google.colab.output.renderOutput(dataTable, element);\n",
              "          const docLink = document.createElement('div');\n",
              "          docLink.innerHTML = docLinkHtml;\n",
              "          element.appendChild(docLink);\n",
              "        }\n",
              "      </script>\n",
              "    </div>\n",
              "  </div>\n",
              "  "
            ]
          },
          "metadata": {},
          "execution_count": 17
        }
      ],
      "source": [
        "df_train = pd.read_csv('train.csv')\n",
        "df_train.head()"
      ]
    },
    {
      "cell_type": "code",
      "execution_count": null,
      "metadata": {
        "colab": {
          "base_uri": "https://localhost:8080/",
          "height": 500
        },
        "id": "O99zFHwMW6FT",
        "outputId": "cf5a6598-683e-4178-da34-5d3e30a00aff"
      },
      "outputs": [
        {
          "output_type": "execute_result",
          "data": {
            "text/plain": [
              "<matplotlib.axes._subplots.AxesSubplot at 0x7fd2112397c0>"
            ]
          },
          "metadata": {},
          "execution_count": 18
        },
        {
          "output_type": "display_data",
          "data": {
            "text/plain": [
              "<Figure size 1152x576 with 1 Axes>"
            ],
            "image/png": "[encoded data removed]"
          },
          "metadata": {
            "needs_background": "light"
          }
        }
      ],
      "source": [
        "df_train.labels.hist(figsize=(16,8))"
      ]
    },
    {
      "cell_type": "code",
      "execution_count": null,
      "metadata": {
        "colab": {
          "base_uri": "https://localhost:8080/"
        },
        "id": "ZBodTOrpXJ7Z",
        "outputId": "048af22c-b6e8-40f4-978c-8dfd5c299aca"
      },
      "outputs": [
        {
          "output_type": "execute_result",
          "data": {
            "text/plain": [
              "water     75\n",
              "car       55\n",
              "food      45\n",
              "cloud     40\n",
              "flower    36\n",
              "dance     30\n",
              "animal    30\n",
              "fire      14\n",
              "sunset    11\n",
              "Name: labels, dtype: int64"
            ]
          },
          "metadata": {},
          "execution_count": 19
        }
      ],
      "source": [
        "df_train.labels.value_counts()"
      ]
    },
    {
      "cell_type": "code",
      "execution_count": null,
      "metadata": {
        "id": "esOL_IXpddAP"
      },
      "outputs": [],
      "source": []
    },
    {
      "cell_type": "code",
      "execution_count": null,
      "metadata": {
        "id": "zV5VmCI-JywK",
        "tags": []
      },
      "outputs": [],
      "source": [
        "from numpy import array\n",
        "from numpy import argmax\n",
        "from sklearn.preprocessing import LabelEncoder\n",
        "class RSNADataset(Dataset):\n",
        "    def __init__(self, df,  is_test=False):\n",
        "        self.df = df\n",
        "        self.transform = A.Compose([\n",
        "            ToTensorV2(p=1.0),\n",
        "        ],p=1.)\n",
        "\n",
        "        self.is_test = is_test\n",
        "        self.samples = []\n",
        "        self.cls = {'water':0,'car':1,'cloud':2,'food':3,'flower':4,'dance':5,'animal':6,'sunset':7,'fire':8,'cloud, sunset':2,'water, flower':0,'cloud, water':2}\n",
        "\n",
        "        for path, label in tzip(df.path, df.labels):\n",
        "          frames = read_video(f'/content/videos/train_video/{path}',Config['MAX_FRAMES'])\n",
        "          self.samples +=[{'label': self.cls[str(label)],'frames': frames}]\n",
        "\n",
        "\n",
        "    def __len__(self):\n",
        "        return len(self.df)\n",
        "\n",
        "    def __getitem__(self, idx):\n",
        "        sample = self.samples[idx]\n",
        "\n",
        "        frames = sample['frames']\n",
        "\n",
        "\n",
        "        frames_tr = torch.from_numpy(np.stack(frames, axis=2)).permute(2, 3, 0, 1)\n",
        "\n",
        "        if self.is_test:\n",
        "            return frames_tr\n",
        "        else:\n",
        "            label = torch.tensor(sample['label']).long()\n",
        "            return frames_tr, label"
      ]
    },
    {
      "cell_type": "code",
      "source": [
        "timm.list_models()"
      ],
      "metadata": {
        "id": "9lEODV_4t-Bh"
      },
      "execution_count": null,
      "outputs": []
    },
    {
      "cell_type": "markdown",
      "metadata": {
        "id": "FIT69vLGJywK"
      },
      "source": [
        "<div class=\"alert alert-success\">\n",
        "    <h2 align='center'>📈 Model Class with ResNext Backbone</h2>\n",
        "</div>"
      ]
    },
    {
      "cell_type": "code",
      "execution_count": null,
      "metadata": {
        "id": "ZPH5ZEKMJywK",
        "tags": []
      },
      "outputs": [],
      "source": [
        "class ResNextModel(nn.Module):\n",
        "    def __init__(self):\n",
        "        super(ResNextModel, self).__init__()\n",
        "        self.backbone = timm.create_model(Config['FEATURE_EXTRACTOR'], pretrained=True)\n",
        "    def forward(self, x):\n",
        "        return self.backbone(x)\n",
        "\n",
        "class Identity(nn.Module):\n",
        "    def __init__(self):\n",
        "        super(Identity, self).__init__()\n",
        "    def forward(self, x):\n",
        "        return x\n",
        "\n",
        "class RSNAModel(nn.Module):\n",
        "    def __init__(self, pretrained=True):\n",
        "        super(RSNAModel, self).__init__()\n",
        "        self.backbone = ResNextModel()\n",
        "        for param in self.backbone.parameters():\n",
        "            param.requires_grad = False\n",
        "        self.num_features = self.backbone.backbone.fc.in_features\n",
        "\n",
        "        self.backbone.backbone.fc = Identity()\n",
        "        self.dropout= nn.Dropout(Config['DR_RATE'])\n",
        "        self.rnn = nn.LSTM(self.num_features, Config['RNN_HIDDEN_SIZE'], Config['RNN_LAYERS'], dropout=0.2, batch_first=True, bidirectional=True )#bidirectional=True\n",
        "        self.fc1 = nn.Linear(Config['RNN_HIDDEN_SIZE'] * 2, Config['NUM_CLASSES'])\n",
        "\n",
        "    def forward(self, x):\n",
        "        b, f, c, h, w = x.shape\n",
        "        #print(x.reshape(b * f, c, h, w).shape)\n",
        "        x = self.backbone(x.reshape(b * f, c, h, w))\n",
        "        #print(x.shape)\n",
        "        x = x.reshape(b, f, self.num_features)\n",
        "        #print(x.shape)\n",
        "        emb, _ = self.rnn(x)\n",
        "        #print(x.shape)\n",
        "        x = self.dropout(emb[:, -1])#\n",
        "        #print(x.shape, self.num_features)\n",
        "        x = self.fc1(x)\n",
        "        return x, emb[:, -1]"
      ]
    },
    {
      "cell_type": "markdown",
      "metadata": {
        "id": "WxTYOqyfJywL"
      },
      "source": [
        "<div class=\"alert alert-success\">\n",
        "    <h2 align='center'>🏴‍☠️ Training and Validation Functions</h2>\n",
        "</div>"
      ]
    },
    {
      "cell_type": "code",
      "execution_count": null,
      "metadata": {
        "id": "hCiUYDYIJywL",
        "tags": []
      },
      "outputs": [],
      "source": [
        "def train_one_epoch(model, train_dataloader, optimizer, loss_fn, epoch, device, log_wandb=True, verbose=False):\n",
        "    \"\"\"\n",
        "    Trains model for one epoch\n",
        "    \"\"\"\n",
        "    model.train()\n",
        "    running_loss = 0\n",
        "    prog_bar = tqdm(enumerate(train_dataloader), total=len(train_dataloader))\n",
        "    for batch, (frames, targets) in prog_bar:\n",
        "        optimizer.zero_grad()\n",
        "\n",
        "        frames = frames.to(device, torch.float)\n",
        "        targets = targets.to(device)\n",
        "\n",
        "        # Re arrange the frames in the format our model wants to recieve\n",
        "        preds, _ = model(frames)\n",
        "        loss = loss_fn(preds, targets)\n",
        "\n",
        "        loss.backward()\n",
        "        optimizer.step()\n",
        "\n",
        "        loss_item = loss.item()\n",
        "        running_loss += loss_item\n",
        "\n",
        "        prog_bar.set_description(f\"loss: {loss_item:.4f}\")\n",
        "\n",
        "        if log_wandb == True:\n",
        "            wandb_log(\n",
        "                batch_train_loss=loss_item\n",
        "            )\n",
        "\n",
        "        if verbose == True and batch % 20 == 0:\n",
        "            print(f\"Batch: {batch}, Loss: {loss_item}\")\n",
        "\n",
        "    avg_loss = running_loss / len(train_dataloader)\n",
        "\n",
        "    return avg_loss\n",
        "\n",
        "# w1 = W0 - grad*lr\n",
        "\n",
        "@torch.no_grad()\n",
        "def valid_one_epoch(model, valid_dataloader, loss_fn, epoch, device, log_wandb=True, verbose=False):\n",
        "    \"\"\"\n",
        "    Validates the model for one epoch\n",
        "    \"\"\"\n",
        "    model.eval()\n",
        "    running_loss = 0\n",
        "    prog_bar = tqdm(enumerate(valid_dataloader), total=len(valid_dataloader))\n",
        "    for batch, (frames, targets) in prog_bar:\n",
        "        frames = frames.to(device, torch.float)\n",
        "        targets = targets.to(device)\n",
        "\n",
        "        # Re arrange the frames in the format our model wants to recieve\n",
        "        preds, _ = model(frames)\n",
        "        loss = loss_fn(preds, targets)\n",
        "\n",
        "        loss_item = loss.item()\n",
        "        running_loss += loss_item\n",
        "\n",
        "        prog_bar.set_description(f\"val_loss: {loss_item:.4f}\")\n",
        "\n",
        "        if log_wandb == True:\n",
        "            wandb_log(\n",
        "                batch_val_loss=loss_item\n",
        "            )\n",
        "\n",
        "        if verbose == True and batch % 10 == 0:\n",
        "            print(f\"Batch: {batch}, Loss: {loss_item}\")\n",
        "\n",
        "    avg_val_loss = running_loss / len(valid_dataloader)\n",
        "\n",
        "    return avg_val_loss"
      ]
    },
    {
      "cell_type": "markdown",
      "metadata": {
        "id": "U6uio2y9JywL"
      },
      "source": [
        "<div class=\"alert alert-success\">\n",
        "    <h2 align='center'>🏗 Training and Validating the Model</h2>\n",
        "</div>"
      ]
    },
    {
      "cell_type": "code",
      "execution_count": null,
      "metadata": {
        "colab": {
          "base_uri": "https://localhost:8080/"
        },
        "id": "jZaIm8mxbyfU",
        "outputId": "d4617b8d-d6d8-4401-9982-47c44aafa563"
      },
      "outputs": [
        {
          "output_type": "stream",
          "name": "stdout",
          "text": [
            "Using GPU: Tesla T4\n",
            "\n",
            "Size of Training Set: 336, Validation Set: 85\n"
          ]
        }
      ],
      "source": [
        "log_wandb = True\n",
        "if torch.cuda.is_available():\n",
        "        print(\"Using GPU: {}\\n\".format(torch.cuda.get_device_name()))\n",
        "        device = torch.device('cuda')\n",
        "else:\n",
        "        print(\"\\nGPU not found. Using CPU: {}\\n\".format(platform.processor()))\n",
        "        device = torch.device('cpu')\n",
        "\n",
        "train_df = pd.read_csv('train.csv')\n",
        "valid_df = pd.read_csv('test.csv')\n",
        "\n",
        "print(f'Size of Training Set: {len(train_df)}, Validation Set: {len(valid_df)}')\n",
        "\n",
        ""
      ]
    },
    {
      "cell_type": "code",
      "execution_count": null,
      "metadata": {
        "colab": {
          "base_uri": "https://localhost:8080/",
          "height": 81,
          "referenced_widgets": [
            "f9c9d603a725448684666d9beb0e7b4c",
            "9af79b3191c546b0b076e4ba4b93d435",
            "72dd2fe68b614f999e5c1ba07e2bbe3b",
            "82752a72ea854e49a0e98ed83901c614",
            "4d363314777742a795749384e048c05d",
            "5dd6efd940104c20a71b358e9abebc54",
            "9394535103b046b1abedad69bb1d4c96",
            "1bd060bbdcc04fcb94c235d42ce38da4",
            "7e1d9d83c62741a8bcf8a0d3d4d74c3c",
            "d5b93a3f45844661915e23ccaf5be227",
            "24e7a7f31c834a899fa957f3990c1c71",
            "d071539769744afdaeb6b71dbc3adda7",
            "047ed2710d0c408e90078a8d307e88ae",
            "2a8d5f5b4d874e6fbbf0ff56980e8ede",
            "229738e5f21d4ccbba45d10921adb0c5",
            "b9624210f0574fba9868f829778a3465",
            "5bbfab55a90a47b8be59fda3478d9da9",
            "da97a79318f148aea5aa9f942e48ec19",
            "d8821b7a6cbb41708771fc5d5424e168",
            "b84eea2f10d04ba7a426f4be0d8e340d",
            "68045b0f5c8e42d3b6dc321e52c004c5",
            "529adff5a767404c8f43021cc4896409"
          ]
        },
        "id": "eNtJmYhvfhdv",
        "outputId": "ddad567c-0612-4ea6-a1f4-d80f45808555"
      },
      "outputs": [
        {
          "output_type": "display_data",
          "data": {
            "text/plain": [
              "  0%|          | 0/336 [00:00<?, ?it/s]"
            ],
            "application/vnd.jupyter.widget-view+json": {
              "version_major": 2,
              "version_minor": 0,
              "model_id": "f9c9d603a725448684666d9beb0e7b4c"
            }
          },
          "metadata": {}
        },
        {
          "output_type": "display_data",
          "data": {
            "text/plain": [
              "  0%|          | 0/85 [00:00<?, ?it/s]"
            ],
            "application/vnd.jupyter.widget-view+json": {
              "version_major": 2,
              "version_minor": 0,
              "model_id": "d071539769744afdaeb6b71dbc3adda7"
            }
          },
          "metadata": {}
        }
      ],
      "source": [
        "train_data = RSNADataset(train_df)\n",
        "valid_data = RSNADataset(valid_df)\n",
        "train_loader = DataLoader(\n",
        "        train_data,\n",
        "        batch_size=Config['TRAIN_BS'],\n",
        "        shuffle=True,\n",
        "        num_workers=Config['NUM_WORKERS']\n",
        ")\n",
        "\n",
        "valid_loader = DataLoader(\n",
        "        valid_data,\n",
        "        batch_size=Config['VALID_BS'],\n",
        "        shuffle=False,\n",
        "        num_workers=Config['NUM_WORKERS']\n",
        ")"
      ]
    },
    {
      "cell_type": "code",
      "execution_count": null,
      "metadata": {
        "colab": {
          "base_uri": "https://localhost:8080/"
        },
        "id": "MM0Jpxjrb3o1",
        "outputId": "3df13687-5546-4aea-e3bc-3a6964e9caa5"
      },
      "outputs": [
        {
          "output_type": "stream",
          "name": "stdout",
          "text": [
            "\n",
            "Using Backbone: resnext101_64x4d\n"
          ]
        }
      ],
      "source": [
        "model = RSNAModel()\n",
        "model = model.to(device)\n",
        "model.train()\n",
        "optimizer = torch.optim.AdamW(model.parameters(), lr=Config['LR'])\n",
        "\n",
        "train_loss_fn = nn.CrossEntropyLoss()\n",
        "valid_loss_fn = nn.CrossEntropyLoss()\n",
        "\n",
        "print(f\"\\nUsing Backbone: {Config['FEATURE_EXTRACTOR']}\")"
      ]
    },
    {
      "cell_type": "code",
      "execution_count": null,
      "metadata": {
        "id": "mhMTDm4Ma2aE"
      },
      "outputs": [],
      "source": [
        "current_loss = 1000\n",
        "for epoch in range(10):\n",
        "    print(f\"\\n{'--'*8} EPOCH: {epoch+1} {'--'*8}\\n\")\n",
        "\n",
        "    train_loss = train_one_epoch(model, train_loader, optimizer, train_loss_fn, epoch=epoch, device=device, log_wandb=log_wandb)\n",
        "\n",
        "    valid_loss = valid_one_epoch(model, valid_loader, valid_loss_fn, epoch=epoch, device=device, log_wandb=log_wandb)\n",
        "\n",
        "    print(f\"val_loss: {valid_loss:.4f}\")\n",
        "\n",
        "    if log_wandb == True:\n",
        "        wandb_log(\n",
        "                train_loss=train_loss,\n",
        "                valid_loss=valid_loss\n",
        "        )\n",
        "\n",
        "    if valid_loss < current_loss:\n",
        "        current_loss = valid_loss\n",
        "        torch.save(model.state_dict(), f\"model_{Config['FEATURE_EXTRACTOR']}.pt\")"
      ]
    },
    {
      "cell_type": "code",
      "execution_count": null,
      "metadata": {
        "id": "iDjplv9pchib",
        "colab": {
          "base_uri": "https://localhost:8080/",
          "height": 49,
          "referenced_widgets": [
            "f67a2a95b2694e37941d72003f160fe0",
            "e9dda27e10b849c292d119ddc5cad72d",
            "931c672932d9453bbfbaff8887a6f49a",
            "4c308087593949f2ad9292837885db1d",
            "cd7cd569d36b42168cf27c1789d2afa2",
            "9423465023204984b024d03b9decf760",
            "864a97d84e3c40b8bdf0baae280156c9",
            "9f40c603a1af49cf91deb0e40713684d",
            "11c0bb24688b4ba2a6ee14c8b1ebf3b4",
            "b8f09e1aac804e34a2e5073ea103ceb7",
            "0a5c5f05059b4699b57e1b289c5bc88f"
          ]
        },
        "outputId": "7292ee84-fe7f-40be-98a2-f75bb0308b69"
      },
      "outputs": [
        {
          "output_type": "display_data",
          "data": {
            "text/plain": [
              "  0%|          | 0/9 [00:00<?, ?it/s]"
            ],
            "application/vnd.jupyter.widget-view+json": {
              "version_major": 2,
              "version_minor": 0,
              "model_id": "f67a2a95b2694e37941d72003f160fe0"
            }
          },
          "metadata": {}
        }
      ],
      "source": [
        "  gt = []\n",
        "  pred = []\n",
        "  model.eval()\n",
        "  prog_bar = tqdm(enumerate(valid_loader), total=len(valid_loader))\n",
        "  for batch, (frames, targets) in prog_bar:\n",
        "      frames = frames.to('cuda').float()\n",
        "      gt += [targets.to('cpu').numpy()]\n",
        "      with torch.no_grad():\n",
        "          # print(frames.shape)\n",
        "          pred += [list(model(frames.permute(0, 1, 2, 3, 4))[1].to('cpu').numpy())]"
      ]
    },
    {
      "cell_type": "code",
      "source": [],
      "metadata": {
        "id": "6qb1gw7K0YXU"
      },
      "execution_count": null,
      "outputs": []
    },
    {
      "cell_type": "code",
      "execution_count": null,
      "metadata": {
        "id": "XRQM2ej-Yi3j"
      },
      "outputs": [],
      "source": [
        "new_pred = []\n",
        "for i in pred:\n",
        "  for el in i:\n",
        "    new_pred.append(el)"
      ]
    },
    {
      "cell_type": "code",
      "execution_count": null,
      "metadata": {
        "id": "HIMUBrngwQ0A"
      },
      "outputs": [],
      "source": [
        "new_gt = []\n",
        "for i in gt:\n",
        "  for el in i:\n",
        "    new_gt.append(el)"
      ]
    },
    {
      "cell_type": "code",
      "execution_count": null,
      "metadata": {
        "id": "kkKlbGNuU4se"
      },
      "outputs": [],
      "source": [
        "from sklearn.cluster import KMeans\n",
        "cluster = KMeans(9).fit(new_pred)"
      ]
    },
    {
      "cell_type": "code",
      "execution_count": null,
      "metadata": {
        "id": "eQbYVlgpsKys"
      },
      "outputs": [],
      "source": [
        "cluster_pred = cluster.predict(new_pred).tolist()"
      ]
    },
    {
      "cell_type": "code",
      "execution_count": null,
      "metadata": {
        "id": "AIhbGIooseQN"
      },
      "outputs": [],
      "source": [
        "train_cb = []\n",
        "for i, el in enumerate(new_pred):\n",
        "  train_cb.append(el.tolist())"
      ]
    },
    {
      "cell_type": "code",
      "execution_count": null,
      "metadata": {
        "colab": {
          "base_uri": "https://localhost:8080/"
        },
        "id": "TlRe7IPFEMik",
        "outputId": "e38cce0d-6ce5-4390-cef0-0de68ad4b13a"
      },
      "outputs": [
        {
          "output_type": "stream",
          "name": "stdout",
          "text": [
            "Looking in indexes: https://pypi.org/simple, https://us-python.pkg.dev/colab-wheels/public/simple/\n",
            "Collecting catboost\n",
            "  Downloading catboost-1.1.1-cp38-none-manylinux1_x86_64.whl (76.6 MB)\n",
            "\u001b[K     |████████████████████████████████| 76.6 MB 1.2 MB/s \n",
            "\u001b[?25hRequirement already satisfied: numpy>=1.16.0 in /usr/local/lib/python3.8/dist-packages (from catboost) (1.21.6)\n",
            "Requirement already satisfied: pandas>=0.24.0 in /usr/local/lib/python3.8/dist-packages (from catboost) (1.3.5)\n",
            "Requirement already satisfied: scipy in /usr/local/lib/python3.8/dist-packages (from catboost) (1.7.3)\n",
            "Requirement already satisfied: graphviz in /usr/local/lib/python3.8/dist-packages (from catboost) (0.10.1)\n",
            "Requirement already satisfied: plotly in /usr/local/lib/python3.8/dist-packages (from catboost) (5.5.0)\n",
            "Requirement already satisfied: six in /usr/local/lib/python3.8/dist-packages (from catboost) (1.15.0)\n",
            "Requirement already satisfied: matplotlib in /usr/local/lib/python3.8/dist-packages (from catboost) (3.2.2)\n",
            "Requirement already satisfied: python-dateutil>=2.7.3 in /usr/local/lib/python3.8/dist-packages (from pandas>=0.24.0->catboost) (2.8.2)\n",
            "Requirement already satisfied: pytz>=2017.3 in /usr/local/lib/python3.8/dist-packages (from pandas>=0.24.0->catboost) (2022.6)\n",
            "Requirement already satisfied: pyparsing!=2.0.4,!=2.1.2,!=2.1.6,>=2.0.1 in /usr/local/lib/python3.8/dist-packages (from matplotlib->catboost) (3.0.9)\n",
            "Requirement already satisfied: cycler>=0.10 in /usr/local/lib/python3.8/dist-packages (from matplotlib->catboost) (0.11.0)\n",
            "Requirement already satisfied: kiwisolver>=1.0.1 in /usr/local/lib/python3.8/dist-packages (from matplotlib->catboost) (1.4.4)\n",
            "Requirement already satisfied: tenacity>=6.2.0 in /usr/local/lib/python3.8/dist-packages (from plotly->catboost) (8.1.0)\n",
            "Installing collected packages: catboost\n",
            "Successfully installed catboost-1.1.1\n"
          ]
        }
      ],
      "source": [
        "!pip install catboost"
      ]
    },
    {
      "cell_type": "code",
      "execution_count": null,
      "metadata": {
        "id": "LD8hRxJ90ND-"
      },
      "outputs": [],
      "source": [
        "from sklearn.ensemble import RandomForestClassifier\n",
        "from catboost import CatBoostClassifier\n",
        "\n",
        "clf = CatBoostClassifier(iterations=200)\n",
        "clf.fit(train_cb, new_gt)"
      ]
    },
    {
      "cell_type": "code",
      "execution_count": null,
      "metadata": {
        "id": "SbuxqtS-0qcg"
      },
      "outputs": [],
      "source": [
        "def pred_ensemble():\n",
        "  gt = []\n",
        "  pred = []\n",
        "  for i in range(len(train_cb)):\n",
        "      data = train_cb[i]\n",
        "      gt += [new_gt[i]]\n",
        "      pred += list(clf.predict([data]))\n",
        "  print(gt[:10], list(pred[:10]))\n",
        "  acc, f1 = accuracy_score(gt, pred), f1_score(gt, pred, average='weighted')\n",
        "  return acc, f1"
      ]
    },
    {
      "cell_type": "code",
      "execution_count": null,
      "metadata": {
        "id": "76AYIn2h1ex_",
        "colab": {
          "base_uri": "https://localhost:8080/"
        },
        "outputId": "fc21e1b3-d8ff-485f-fa26-41f21a27654c"
      },
      "outputs": [
        {
          "output_type": "stream",
          "name": "stdout",
          "text": [
            "[6, 5, 0, 1, 0, 1, 6, 6, 6, 0] [array([3]), array([5]), array([0]), array([1]), array([0]), array([1]), array([6]), array([0]), array([6]), array([0])]\n"
          ]
        },
        {
          "output_type": "execute_result",
          "data": {
            "text/plain": [
              "(0.8117647058823529, 0.8131966847752091)"
            ]
          },
          "metadata": {},
          "execution_count": 73
        }
      ],
      "source": [
        "pred_ensemble()"
      ]
    },
    {
      "cell_type": "code",
      "execution_count": null,
      "metadata": {
        "colab": {
          "base_uri": "https://localhost:8080/",
          "height": 49,
          "referenced_widgets": [
            "e4e2400485af42c7b9587cbb66fc5e70",
            "eb1125a2e4704518a1494a1817a3eca2",
            "4ef586f9e8a1435281227c6fb20327f0",
            "adbe8276a72042f685db6f8c2faa365b",
            "e2ce0c237beb4e54b01e0ff4bcd3d7a5",
            "8185076204354b339a048030908ba056",
            "a300d993d82246728e029641241acc12",
            "bd6f0f8613c743e5b1e823dfb13ebbea",
            "c6173092e1e141f4aaabe85291f130f1",
            "3a09968b878d4ec692af0c2e83c5c9ba",
            "aeb756cbd56141aebe085357b677ef60"
          ]
        },
        "id": "V0uYKxL3xrPu",
        "outputId": "177ed740-3566-443b-be9d-90d7c2c665fb"
      },
      "outputs": [
        {
          "output_type": "display_data",
          "data": {
            "text/plain": [
              "  0%|          | 0/9 [00:00<?, ?it/s]"
            ],
            "application/vnd.jupyter.widget-view+json": {
              "version_major": 2,
              "version_minor": 0,
              "model_id": "e4e2400485af42c7b9587cbb66fc5e70"
            }
          },
          "metadata": {}
        }
      ],
      "source": [
        "gt = []\n",
        "pred = []\n",
        "model.eval()\n",
        "prog_bar = tqdm(enumerate(valid_loader), total=len(valid_loader))\n",
        "for batch, (frames, targets) in prog_bar:\n",
        "    frames = frames.to('cuda').float()\n",
        "    gt +=  list(targets.numpy())\n",
        "    with torch.no_grad():\n",
        "\n",
        "        pred += list(model(frames).argmax(dim=-1).to('cpu').flatten().numpy())\n"
      ]
    },
    {
      "cell_type": "code",
      "execution_count": null,
      "metadata": {
        "id": "gsy_jIBisIKo"
      },
      "outputs": [],
      "source": [
        "torch.save(model.state_dict(),'/content/drive/MyDrive/Video_clf/sample_model.pt')"
      ]
    },
    {
      "cell_type": "code",
      "source": [
        "clf.save_model('/content/drive/MyDrive/Video_clf/catboost.cbm',\n",
        "           format=\"cbm\",\n",
        "           export_parameters=None,\n",
        "           pool=None)"
      ],
      "metadata": {
        "id": "UCVvASYm6tyO"
      },
      "execution_count": null,
      "outputs": []
    },
    {
      "cell_type": "code",
      "execution_count": null,
      "metadata": {
        "colab": {
          "base_uri": "https://localhost:8080/"
        },
        "id": "SaYZe8KCjvyO",
        "outputId": "ef0055ac-6301-4dce-ae88-a4b803e384f9"
      },
      "outputs": [
        {
          "output_type": "stream",
          "name": "stdout",
          "text": [
            "0.8 0.8097729838868128\n"
          ]
        }
      ],
      "source": [
        "from sklearn.metrics import accuracy_score, f1_score #не замороженное\n",
        "print(accuracy_score(gt, pred), f1_score(gt, pred, average='weighted'))"
      ]
    },
    {
      "cell_type": "code",
      "execution_count": null,
      "metadata": {
        "colab": {
          "base_uri": "https://localhost:8080/"
        },
        "id": "UHEpiPM8i7fs",
        "outputId": "7b458f4e-8502-4be5-c9d5-48460c5935de"
      },
      "outputs": [
        {
          "output_type": "stream",
          "name": "stdout",
          "text": [
            "0.8 0.8097729838868128\n"
          ]
        }
      ],
      "source": [
        "from sklearn.metrics import accuracy_score, f1_score #не замороженное\n",
        "print(accuracy_score(gt, pred), f1_score(gt, pred, average='weighted'))"
      ]
    },
    {
      "cell_type": "code",
      "execution_count": null,
      "metadata": {
        "colab": {
          "base_uri": "https://localhost:8080/"
        },
        "id": "oAJ4qjaOhfWW",
        "outputId": "af43e009-574c-4511-f042-97660bbe888d"
      },
      "outputs": [
        {
          "output_type": "stream",
          "name": "stdout",
          "text": [
            "0.7176470588235294 0.7082285035226211\n"
          ]
        }
      ],
      "source": [
        "from sklearn.metrics import accuracy_score, f1_score #не замороженное\n",
        "print(accuracy_score(gt, pred), f1_score(gt, pred, average='weighted'))"
      ]
    },
    {
      "cell_type": "code",
      "execution_count": null,
      "metadata": {
        "colab": {
          "base_uri": "https://localhost:8080/"
        },
        "id": "mhCzggsugzei",
        "outputId": "e7c50c77-a9e4-4cd1-eeb6-ba5099480fa6"
      },
      "outputs": [
        {
          "name": "stdout",
          "output_type": "stream",
          "text": [
            "0.6095238095238096\n"
          ]
        }
      ],
      "source": [
        "from sklearn.metrics import accuracy_score\n",
        "print(accuracy_score(gt, pred))"
      ]
    },
    {
      "cell_type": "code",
      "execution_count": null,
      "metadata": {
        "colab": {
          "base_uri": "https://localhost:8080/"
        },
        "id": "tY-JtkUwf-4R",
        "outputId": "e0a4cbb2-01f9-45cd-d803-d7df7b106eb7"
      },
      "outputs": [
        {
          "name": "stdout",
          "output_type": "stream",
          "text": [
            "0.6095238095238096\n"
          ]
        }
      ],
      "source": [
        "from sklearn.metrics import accuracy_score\n",
        "print(accuracy_score(gt, pred))"
      ]
    },
    {
      "cell_type": "code",
      "execution_count": null,
      "metadata": {
        "colab": {
          "base_uri": "https://localhost:8080/"
        },
        "id": "s9agglTmdbTL",
        "outputId": "e4ae9c9e-0bd1-483e-e341-86e5cf4e1c21"
      },
      "outputs": [
        {
          "name": "stdout",
          "output_type": "stream",
          "text": [
            "0.6095238095238096\n"
          ]
        }
      ],
      "source": [
        "from sklearn.metrics import accuracy_score\n",
        "print(accuracy_score(gt, pred))"
      ]
    },
    {
      "cell_type": "code",
      "execution_count": null,
      "metadata": {
        "id": "7AuC3YoFdmp2"
      },
      "outputs": [],
      "source": []
    }
  ],
  "metadata": {
    "colab": {
      "provenance": []
    },
    "gpuClass": "standard",
    "kernelspec": {
      "display_name": "Python 3 (ipykernel)",
      "language": "python",
      "name": "python3"
    },
    "language_info": {
      "codemirror_mode": {
        "name": "ipython",
        "version": 3
      },
      "file_extension": ".py",
      "mimetype": "text/x-python",
      "name": "python",
      "nbconvert_exporter": "python",
      "pygments_lexer": "ipython3",
      "version": "3.8.10"
    },
    "widgets": {
      "application/vnd.jupyter.widget-state+json": {
        "f9c9d603a725448684666d9beb0e7b4c": {
          "model_module": "@jupyter-widgets/controls",
          "model_name": "HBoxModel",
          "model_module_version": "1.5.0",
          "state": {
            "_dom_classes": [],
            "_model_module": "@jupyter-widgets/controls",
            "_model_module_version": "1.5.0",
            "_model_name": "HBoxModel",
            "_view_count": null,
            "_view_module": "@jupyter-widgets/controls",
            "_view_module_version": "1.5.0",
            "_view_name": "HBoxView",
            "box_style": "",
            "children": [
              "IPY_MODEL_9af79b3191c546b0b076e4ba4b93d435",
              "IPY_MODEL_72dd2fe68b614f999e5c1ba07e2bbe3b",
              "IPY_MODEL_82752a72ea854e49a0e98ed83901c614"
            ],
            "layout": "IPY_MODEL_4d363314777742a795749384e048c05d"
          }
        },
        "9af79b3191c546b0b076e4ba4b93d435": {
          "model_module": "@jupyter-widgets/controls",
          "model_name": "HTMLModel",
          "model_module_version": "1.5.0",
          "state": {
            "_dom_classes": [],
            "_model_module": "@jupyter-widgets/controls",
            "_model_module_version": "1.5.0",
            "_model_name": "HTMLModel",
            "_view_count": null,
            "_view_module": "@jupyter-widgets/controls",
            "_view_module_version": "1.5.0",
            "_view_name": "HTMLView",
            "description": "",
            "description_tooltip": null,
            "layout": "IPY_MODEL_5dd6efd940104c20a71b358e9abebc54",
            "placeholder": "​",
            "style": "IPY_MODEL_9394535103b046b1abedad69bb1d4c96",
            "value": "100%"
          }
        },
        "72dd2fe68b614f999e5c1ba07e2bbe3b": {
          "model_module": "@jupyter-widgets/controls",
          "model_name": "FloatProgressModel",
          "model_module_version": "1.5.0",
          "state": {
            "_dom_classes": [],
            "_model_module": "@jupyter-widgets/controls",
            "_model_module_version": "1.5.0",
            "_model_name": "FloatProgressModel",
            "_view_count": null,
            "_view_module": "@jupyter-widgets/controls",
            "_view_module_version": "1.5.0",
            "_view_name": "ProgressView",
            "bar_style": "success",
            "description": "",
            "description_tooltip": null,
            "layout": "IPY_MODEL_1bd060bbdcc04fcb94c235d42ce38da4",
            "max": 336,
            "min": 0,
            "orientation": "horizontal",
            "style": "IPY_MODEL_7e1d9d83c62741a8bcf8a0d3d4d74c3c",
            "value": 336
          }
        },
        "82752a72ea854e49a0e98ed83901c614": {
          "model_module": "@jupyter-widgets/controls",
          "model_name": "HTMLModel",
          "model_module_version": "1.5.0",
          "state": {
            "_dom_classes": [],
            "_model_module": "@jupyter-widgets/controls",
            "_model_module_version": "1.5.0",
            "_model_name": "HTMLModel",
            "_view_count": null,
            "_view_module": "@jupyter-widgets/controls",
            "_view_module_version": "1.5.0",
            "_view_name": "HTMLView",
            "description": "",
            "description_tooltip": null,
            "layout": "IPY_MODEL_d5b93a3f45844661915e23ccaf5be227",
            "placeholder": "​",
            "style": "IPY_MODEL_24e7a7f31c834a899fa957f3990c1c71",
            "value": " 336/336 [01:04&lt;00:00,  5.25it/s]"
          }
        },
        "4d363314777742a795749384e048c05d": {
          "model_module": "@jupyter-widgets/base",
          "model_name": "LayoutModel",
          "model_module_version": "1.2.0",
          "state": {
            "_model_module": "@jupyter-widgets/base",
            "_model_module_version": "1.2.0",
            "_model_name": "LayoutModel",
            "_view_count": null,
            "_view_module": "@jupyter-widgets/base",
            "_view_module_version": "1.2.0",
            "_view_name": "LayoutView",
            "align_content": null,
            "align_items": null,
            "align_self": null,
            "border": null,
            "bottom": null,
            "display": null,
            "flex": null,
            "flex_flow": null,
            "grid_area": null,
            "grid_auto_columns": null,
            "grid_auto_flow": null,
            "grid_auto_rows": null,
            "grid_column": null,
            "grid_gap": null,
            "grid_row": null,
            "grid_template_areas": null,
            "grid_template_columns": null,
            "grid_template_rows": null,
            "height": null,
            "justify_content": null,
            "justify_items": null,
            "left": null,
            "margin": null,
            "max_height": null,
            "max_width": null,
            "min_height": null,
            "min_width": null,
            "object_fit": null,
            "object_position": null,
            "order": null,
            "overflow": null,
            "overflow_x": null,
            "overflow_y": null,
            "padding": null,
            "right": null,
            "top": null,
            "visibility": null,
            "width": null
          }
        },
        "5dd6efd940104c20a71b358e9abebc54": {
          "model_module": "@jupyter-widgets/base",
          "model_name": "LayoutModel",
          "model_module_version": "1.2.0",
          "state": {
            "_model_module": "@jupyter-widgets/base",
            "_model_module_version": "1.2.0",
            "_model_name": "LayoutModel",
            "_view_count": null,
            "_view_module": "@jupyter-widgets/base",
            "_view_module_version": "1.2.0",
            "_view_name": "LayoutView",
            "align_content": null,
            "align_items": null,
            "align_self": null,
            "border": null,
            "bottom": null,
            "display": null,
            "flex": null,
            "flex_flow": null,
            "grid_area": null,
            "grid_auto_columns": null,
            "grid_auto_flow": null,
            "grid_auto_rows": null,
            "grid_column": null,
            "grid_gap": null,
            "grid_row": null,
            "grid_template_areas": null,
            "grid_template_columns": null,
            "grid_template_rows": null,
            "height": null,
            "justify_content": null,
            "justify_items": null,
            "left": null,
            "margin": null,
            "max_height": null,
            "max_width": null,
            "min_height": null,
            "min_width": null,
            "object_fit": null,
            "object_position": null,
            "order": null,
            "overflow": null,
            "overflow_x": null,
            "overflow_y": null,
            "padding": null,
            "right": null,
            "top": null,
            "visibility": null,
            "width": null
          }
        },
        "9394535103b046b1abedad69bb1d4c96": {
          "model_module": "@jupyter-widgets/controls",
          "model_name": "DescriptionStyleModel",
          "model_module_version": "1.5.0",
          "state": {
            "_model_module": "@jupyter-widgets/controls",
            "_model_module_version": "1.5.0",
            "_model_name": "DescriptionStyleModel",
            "_view_count": null,
            "_view_module": "@jupyter-widgets/base",
            "_view_module_version": "1.2.0",
            "_view_name": "StyleView",
            "description_width": ""
          }
        },
        "1bd060bbdcc04fcb94c235d42ce38da4": {
          "model_module": "@jupyter-widgets/base",
          "model_name": "LayoutModel",
          "model_module_version": "1.2.0",
          "state": {
            "_model_module": "@jupyter-widgets/base",
            "_model_module_version": "1.2.0",
            "_model_name": "LayoutModel",
            "_view_count": null,
            "_view_module": "@jupyter-widgets/base",
            "_view_module_version": "1.2.0",
            "_view_name": "LayoutView",
            "align_content": null,
            "align_items": null,
            "align_self": null,
            "border": null,
            "bottom": null,
            "display": null,
            "flex": null,
            "flex_flow": null,
            "grid_area": null,
            "grid_auto_columns": null,
            "grid_auto_flow": null,
            "grid_auto_rows": null,
            "grid_column": null,
            "grid_gap": null,
            "grid_row": null,
            "grid_template_areas": null,
            "grid_template_columns": null,
            "grid_template_rows": null,
            "height": null,
            "justify_content": null,
            "justify_items": null,
            "left": null,
            "margin": null,
            "max_height": null,
            "max_width": null,
            "min_height": null,
            "min_width": null,
            "object_fit": null,
            "object_position": null,
            "order": null,
            "overflow": null,
            "overflow_x": null,
            "overflow_y": null,
            "padding": null,
            "right": null,
            "top": null,
            "visibility": null,
            "width": null
          }
        },
        "7e1d9d83c62741a8bcf8a0d3d4d74c3c": {
          "model_module": "@jupyter-widgets/controls",
          "model_name": "ProgressStyleModel",
          "model_module_version": "1.5.0",
          "state": {
            "_model_module": "@jupyter-widgets/controls",
            "_model_module_version": "1.5.0",
            "_model_name": "ProgressStyleModel",
            "_view_count": null,
            "_view_module": "@jupyter-widgets/base",
            "_view_module_version": "1.2.0",
            "_view_name": "StyleView",
            "bar_color": null,
            "description_width": ""
          }
        },
        "d5b93a3f45844661915e23ccaf5be227": {
          "model_module": "@jupyter-widgets/base",
          "model_name": "LayoutModel",
          "model_module_version": "1.2.0",
          "state": {
            "_model_module": "@jupyter-widgets/base",
            "_model_module_version": "1.2.0",
            "_model_name": "LayoutModel",
            "_view_count": null,
            "_view_module": "@jupyter-widgets/base",
            "_view_module_version": "1.2.0",
            "_view_name": "LayoutView",
            "align_content": null,
            "align_items": null,
            "align_self": null,
            "border": null,
            "bottom": null,
            "display": null,
            "flex": null,
            "flex_flow": null,
            "grid_area": null,
            "grid_auto_columns": null,
            "grid_auto_flow": null,
            "grid_auto_rows": null,
            "grid_column": null,
            "grid_gap": null,
            "grid_row": null,
            "grid_template_areas": null,
            "grid_template_columns": null,
            "grid_template_rows": null,
            "height": null,
            "justify_content": null,
            "justify_items": null,
            "left": null,
            "margin": null,
            "max_height": null,
            "max_width": null,
            "min_height": null,
            "min_width": null,
            "object_fit": null,
            "object_position": null,
            "order": null,
            "overflow": null,
            "overflow_x": null,
            "overflow_y": null,
            "padding": null,
            "right": null,
            "top": null,
            "visibility": null,
            "width": null
          }
        },
        "24e7a7f31c834a899fa957f3990c1c71": {
          "model_module": "@jupyter-widgets/controls",
          "model_name": "DescriptionStyleModel",
          "model_module_version": "1.5.0",
          "state": {
            "_model_module": "@jupyter-widgets/controls",
            "_model_module_version": "1.5.0",
            "_model_name": "DescriptionStyleModel",
            "_view_count": null,
            "_view_module": "@jupyter-widgets/base",
            "_view_module_version": "1.2.0",
            "_view_name": "StyleView",
            "description_width": ""
          }
        },
        "d071539769744afdaeb6b71dbc3adda7": {
          "model_module": "@jupyter-widgets/controls",
          "model_name": "HBoxModel",
          "model_module_version": "1.5.0",
          "state": {
            "_dom_classes": [],
            "_model_module": "@jupyter-widgets/controls",
            "_model_module_version": "1.5.0",
            "_model_name": "HBoxModel",
            "_view_count": null,
            "_view_module": "@jupyter-widgets/controls",
            "_view_module_version": "1.5.0",
            "_view_name": "HBoxView",
            "box_style": "",
            "children": [
              "IPY_MODEL_047ed2710d0c408e90078a8d307e88ae",
              "IPY_MODEL_2a8d5f5b4d874e6fbbf0ff56980e8ede",
              "IPY_MODEL_229738e5f21d4ccbba45d10921adb0c5"
            ],
            "layout": "IPY_MODEL_b9624210f0574fba9868f829778a3465"
          }
        },
        "047ed2710d0c408e90078a8d307e88ae": {
          "model_module": "@jupyter-widgets/controls",
          "model_name": "HTMLModel",
          "model_module_version": "1.5.0",
          "state": {
            "_dom_classes": [],
            "_model_module": "@jupyter-widgets/controls",
            "_model_module_version": "1.5.0",
            "_model_name": "HTMLModel",
            "_view_count": null,
            "_view_module": "@jupyter-widgets/controls",
            "_view_module_version": "1.5.0",
            "_view_name": "HTMLView",
            "description": "",
            "description_tooltip": null,
            "layout": "IPY_MODEL_5bbfab55a90a47b8be59fda3478d9da9",
            "placeholder": "​",
            "style": "IPY_MODEL_da97a79318f148aea5aa9f942e48ec19",
            "value": "100%"
          }
        },
        "2a8d5f5b4d874e6fbbf0ff56980e8ede": {
          "model_module": "@jupyter-widgets/controls",
          "model_name": "FloatProgressModel",
          "model_module_version": "1.5.0",
          "state": {
            "_dom_classes": [],
            "_model_module": "@jupyter-widgets/controls",
            "_model_module_version": "1.5.0",
            "_model_name": "FloatProgressModel",
            "_view_count": null,
            "_view_module": "@jupyter-widgets/controls",
            "_view_module_version": "1.5.0",
            "_view_name": "ProgressView",
            "bar_style": "success",
            "description": "",
            "description_tooltip": null,
            "layout": "IPY_MODEL_d8821b7a6cbb41708771fc5d5424e168",
            "max": 85,
            "min": 0,
            "orientation": "horizontal",
            "style": "IPY_MODEL_b84eea2f10d04ba7a426f4be0d8e340d",
            "value": 85
          }
        },
        "229738e5f21d4ccbba45d10921adb0c5": {
          "model_module": "@jupyter-widgets/controls",
          "model_name": "HTMLModel",
          "model_module_version": "1.5.0",
          "state": {
            "_dom_classes": [],
            "_model_module": "@jupyter-widgets/controls",
            "_model_module_version": "1.5.0",
            "_model_name": "HTMLModel",
            "_view_count": null,
            "_view_module": "@jupyter-widgets/controls",
            "_view_module_version": "1.5.0",
            "_view_name": "HTMLView",
            "description": "",
            "description_tooltip": null,
            "layout": "IPY_MODEL_68045b0f5c8e42d3b6dc321e52c004c5",
            "placeholder": "​",
            "style": "IPY_MODEL_529adff5a767404c8f43021cc4896409",
            "value": " 85/85 [00:17&lt;00:00,  7.12it/s]"
          }
        },
        "b9624210f0574fba9868f829778a3465": {
          "model_module": "@jupyter-widgets/base",
          "model_name": "LayoutModel",
          "model_module_version": "1.2.0",
          "state": {
            "_model_module": "@jupyter-widgets/base",
            "_model_module_version": "1.2.0",
            "_model_name": "LayoutModel",
            "_view_count": null,
            "_view_module": "@jupyter-widgets/base",
            "_view_module_version": "1.2.0",
            "_view_name": "LayoutView",
            "align_content": null,
            "align_items": null,
            "align_self": null,
            "border": null,
            "bottom": null,
            "display": null,
            "flex": null,
            "flex_flow": null,
            "grid_area": null,
            "grid_auto_columns": null,
            "grid_auto_flow": null,
            "grid_auto_rows": null,
            "grid_column": null,
            "grid_gap": null,
            "grid_row": null,
            "grid_template_areas": null,
            "grid_template_columns": null,
            "grid_template_rows": null,
            "height": null,
            "justify_content": null,
            "justify_items": null,
            "left": null,
            "margin": null,
            "max_height": null,
            "max_width": null,
            "min_height": null,
            "min_width": null,
            "object_fit": null,
            "object_position": null,
            "order": null,
            "overflow": null,
            "overflow_x": null,
            "overflow_y": null,
            "padding": null,
            "right": null,
            "top": null,
            "visibility": null,
            "width": null
          }
        },
        "5bbfab55a90a47b8be59fda3478d9da9": {
          "model_module": "@jupyter-widgets/base",
          "model_name": "LayoutModel",
          "model_module_version": "1.2.0",
          "state": {
            "_model_module": "@jupyter-widgets/base",
            "_model_module_version": "1.2.0",
            "_model_name": "LayoutModel",
            "_view_count": null,
            "_view_module": "@jupyter-widgets/base",
            "_view_module_version": "1.2.0",
            "_view_name": "LayoutView",
            "align_content": null,
            "align_items": null,
            "align_self": null,
            "border": null,
            "bottom": null,
            "display": null,
            "flex": null,
            "flex_flow": null,
            "grid_area": null,
            "grid_auto_columns": null,
            "grid_auto_flow": null,
            "grid_auto_rows": null,
            "grid_column": null,
            "grid_gap": null,
            "grid_row": null,
            "grid_template_areas": null,
            "grid_template_columns": null,
            "grid_template_rows": null,
            "height": null,
            "justify_content": null,
            "justify_items": null,
            "left": null,
            "margin": null,
            "max_height": null,
            "max_width": null,
            "min_height": null,
            "min_width": null,
            "object_fit": null,
            "object_position": null,
            "order": null,
            "overflow": null,
            "overflow_x": null,
            "overflow_y": null,
            "padding": null,
            "right": null,
            "top": null,
            "visibility": null,
            "width": null
          }
        },
        "da97a79318f148aea5aa9f942e48ec19": {
          "model_module": "@jupyter-widgets/controls",
          "model_name": "DescriptionStyleModel",
          "model_module_version": "1.5.0",
          "state": {
            "_model_module": "@jupyter-widgets/controls",
            "_model_module_version": "1.5.0",
            "_model_name": "DescriptionStyleModel",
            "_view_count": null,
            "_view_module": "@jupyter-widgets/base",
            "_view_module_version": "1.2.0",
            "_view_name": "StyleView",
            "description_width": ""
          }
        },
        "d8821b7a6cbb41708771fc5d5424e168": {
          "model_module": "@jupyter-widgets/base",
          "model_name": "LayoutModel",
          "model_module_version": "1.2.0",
          "state": {
            "_model_module": "@jupyter-widgets/base",
            "_model_module_version": "1.2.0",
            "_model_name": "LayoutModel",
            "_view_count": null,
            "_view_module": "@jupyter-widgets/base",
            "_view_module_version": "1.2.0",
            "_view_name": "LayoutView",
            "align_content": null,
            "align_items": null,
            "align_self": null,
            "border": null,
            "bottom": null,
            "display": null,
            "flex": null,
            "flex_flow": null,
            "grid_area": null,
            "grid_auto_columns": null,
            "grid_auto_flow": null,
            "grid_auto_rows": null,
            "grid_column": null,
            "grid_gap": null,
            "grid_row": null,
            "grid_template_areas": null,
            "grid_template_columns": null,
            "grid_template_rows": null,
            "height": null,
            "justify_content": null,
            "justify_items": null,
            "left": null,
            "margin": null,
            "max_height": null,
            "max_width": null,
            "min_height": null,
            "min_width": null,
            "object_fit": null,
            "object_position": null,
            "order": null,
            "overflow": null,
            "overflow_x": null,
            "overflow_y": null,
            "padding": null,
            "right": null,
            "top": null,
            "visibility": null,
            "width": null
          }
        },
        "b84eea2f10d04ba7a426f4be0d8e340d": {
          "model_module": "@jupyter-widgets/controls",
          "model_name": "ProgressStyleModel",
          "model_module_version": "1.5.0",
          "state": {
            "_model_module": "@jupyter-widgets/controls",
            "_model_module_version": "1.5.0",
            "_model_name": "ProgressStyleModel",
            "_view_count": null,
            "_view_module": "@jupyter-widgets/base",
            "_view_module_version": "1.2.0",
            "_view_name": "StyleView",
            "bar_color": null,
            "description_width": ""
          }
        },
        "68045b0f5c8e42d3b6dc321e52c004c5": {
          "model_module": "@jupyter-widgets/base",
          "model_name": "LayoutModel",
          "model_module_version": "1.2.0",
          "state": {
            "_model_module": "@jupyter-widgets/base",
            "_model_module_version": "1.2.0",
            "_model_name": "LayoutModel",
            "_view_count": null,
            "_view_module": "@jupyter-widgets/base",
            "_view_module_version": "1.2.0",
            "_view_name": "LayoutView",
            "align_content": null,
            "align_items": null,
            "align_self": null,
            "border": null,
            "bottom": null,
            "display": null,
            "flex": null,
            "flex_flow": null,
            "grid_area": null,
            "grid_auto_columns": null,
            "grid_auto_flow": null,
            "grid_auto_rows": null,
            "grid_column": null,
            "grid_gap": null,
            "grid_row": null,
            "grid_template_areas": null,
            "grid_template_columns": null,
            "grid_template_rows": null,
            "height": null,
            "justify_content": null,
            "justify_items": null,
            "left": null,
            "margin": null,
            "max_height": null,
            "max_width": null,
            "min_height": null,
            "min_width": null,
            "object_fit": null,
            "object_position": null,
            "order": null,
            "overflow": null,
            "overflow_x": null,
            "overflow_y": null,
            "padding": null,
            "right": null,
            "top": null,
            "visibility": null,
            "width": null
          }
        },
        "529adff5a767404c8f43021cc4896409": {
          "model_module": "@jupyter-widgets/controls",
          "model_name": "DescriptionStyleModel",
          "model_module_version": "1.5.0",
          "state": {
            "_model_module": "@jupyter-widgets/controls",
            "_model_module_version": "1.5.0",
            "_model_name": "DescriptionStyleModel",
            "_view_count": null,
            "_view_module": "@jupyter-widgets/base",
            "_view_module_version": "1.2.0",
            "_view_name": "StyleView",
            "description_width": ""
          }
        },
        "f67a2a95b2694e37941d72003f160fe0": {
          "model_module": "@jupyter-widgets/controls",
          "model_name": "HBoxModel",
          "model_module_version": "1.5.0",
          "state": {
            "_dom_classes": [],
            "_model_module": "@jupyter-widgets/controls",
            "_model_module_version": "1.5.0",
            "_model_name": "HBoxModel",
            "_view_count": null,
            "_view_module": "@jupyter-widgets/controls",
            "_view_module_version": "1.5.0",
            "_view_name": "HBoxView",
            "box_style": "",
            "children": [
              "IPY_MODEL_e9dda27e10b849c292d119ddc5cad72d",
              "IPY_MODEL_931c672932d9453bbfbaff8887a6f49a",
              "IPY_MODEL_4c308087593949f2ad9292837885db1d"
            ],
            "layout": "IPY_MODEL_cd7cd569d36b42168cf27c1789d2afa2"
          }
        },
        "e9dda27e10b849c292d119ddc5cad72d": {
          "model_module": "@jupyter-widgets/controls",
          "model_name": "HTMLModel",
          "model_module_version": "1.5.0",
          "state": {
            "_dom_classes": [],
            "_model_module": "@jupyter-widgets/controls",
            "_model_module_version": "1.5.0",
            "_model_name": "HTMLModel",
            "_view_count": null,
            "_view_module": "@jupyter-widgets/controls",
            "_view_module_version": "1.5.0",
            "_view_name": "HTMLView",
            "description": "",
            "description_tooltip": null,
            "layout": "IPY_MODEL_9423465023204984b024d03b9decf760",
            "placeholder": "​",
            "style": "IPY_MODEL_864a97d84e3c40b8bdf0baae280156c9",
            "value": "100%"
          }
        },
        "931c672932d9453bbfbaff8887a6f49a": {
          "model_module": "@jupyter-widgets/controls",
          "model_name": "FloatProgressModel",
          "model_module_version": "1.5.0",
          "state": {
            "_dom_classes": [],
            "_model_module": "@jupyter-widgets/controls",
            "_model_module_version": "1.5.0",
            "_model_name": "FloatProgressModel",
            "_view_count": null,
            "_view_module": "@jupyter-widgets/controls",
            "_view_module_version": "1.5.0",
            "_view_name": "ProgressView",
            "bar_style": "success",
            "description": "",
            "description_tooltip": null,
            "layout": "IPY_MODEL_9f40c603a1af49cf91deb0e40713684d",
            "max": 9,
            "min": 0,
            "orientation": "horizontal",
            "style": "IPY_MODEL_11c0bb24688b4ba2a6ee14c8b1ebf3b4",
            "value": 9
          }
        },
        "4c308087593949f2ad9292837885db1d": {
          "model_module": "@jupyter-widgets/controls",
          "model_name": "HTMLModel",
          "model_module_version": "1.5.0",
          "state": {
            "_dom_classes": [],
            "_model_module": "@jupyter-widgets/controls",
            "_model_module_version": "1.5.0",
            "_model_name": "HTMLModel",
            "_view_count": null,
            "_view_module": "@jupyter-widgets/controls",
            "_view_module_version": "1.5.0",
            "_view_name": "HTMLView",
            "description": "",
            "description_tooltip": null,
            "layout": "IPY_MODEL_b8f09e1aac804e34a2e5073ea103ceb7",
            "placeholder": "​",
            "style": "IPY_MODEL_0a5c5f05059b4699b57e1b289c5bc88f",
            "value": " 9/9 [00:06&lt;00:00,  1.57it/s]"
          }
        },
        "cd7cd569d36b42168cf27c1789d2afa2": {
          "model_module": "@jupyter-widgets/base",
          "model_name": "LayoutModel",
          "model_module_version": "1.2.0",
          "state": {
            "_model_module": "@jupyter-widgets/base",
            "_model_module_version": "1.2.0",
            "_model_name": "LayoutModel",
            "_view_count": null,
            "_view_module": "@jupyter-widgets/base",
            "_view_module_version": "1.2.0",
            "_view_name": "LayoutView",
            "align_content": null,
            "align_items": null,
            "align_self": null,
            "border": null,
            "bottom": null,
            "display": null,
            "flex": null,
            "flex_flow": null,
            "grid_area": null,
            "grid_auto_columns": null,
            "grid_auto_flow": null,
            "grid_auto_rows": null,
            "grid_column": null,
            "grid_gap": null,
            "grid_row": null,
            "grid_template_areas": null,
            "grid_template_columns": null,
            "grid_template_rows": null,
            "height": null,
            "justify_content": null,
            "justify_items": null,
            "left": null,
            "margin": null,
            "max_height": null,
            "max_width": null,
            "min_height": null,
            "min_width": null,
            "object_fit": null,
            "object_position": null,
            "order": null,
            "overflow": null,
            "overflow_x": null,
            "overflow_y": null,
            "padding": null,
            "right": null,
            "top": null,
            "visibility": null,
            "width": null
          }
        },
        "9423465023204984b024d03b9decf760": {
          "model_module": "@jupyter-widgets/base",
          "model_name": "LayoutModel",
          "model_module_version": "1.2.0",
          "state": {
            "_model_module": "@jupyter-widgets/base",
            "_model_module_version": "1.2.0",
            "_model_name": "LayoutModel",
            "_view_count": null,
            "_view_module": "@jupyter-widgets/base",
            "_view_module_version": "1.2.0",
            "_view_name": "LayoutView",
            "align_content": null,
            "align_items": null,
            "align_self": null,
            "border": null,
            "bottom": null,
            "display": null,
            "flex": null,
            "flex_flow": null,
            "grid_area": null,
            "grid_auto_columns": null,
            "grid_auto_flow": null,
            "grid_auto_rows": null,
            "grid_column": null,
            "grid_gap": null,
            "grid_row": null,
            "grid_template_areas": null,
            "grid_template_columns": null,
            "grid_template_rows": null,
            "height": null,
            "justify_content": null,
            "justify_items": null,
            "left": null,
            "margin": null,
            "max_height": null,
            "max_width": null,
            "min_height": null,
            "min_width": null,
            "object_fit": null,
            "object_position": null,
            "order": null,
            "overflow": null,
            "overflow_x": null,
            "overflow_y": null,
            "padding": null,
            "right": null,
            "top": null,
            "visibility": null,
            "width": null
          }
        },
        "864a97d84e3c40b8bdf0baae280156c9": {
          "model_module": "@jupyter-widgets/controls",
          "model_name": "DescriptionStyleModel",
          "model_module_version": "1.5.0",
          "state": {
            "_model_module": "@jupyter-widgets/controls",
            "_model_module_version": "1.5.0",
            "_model_name": "DescriptionStyleModel",
            "_view_count": null,
            "_view_module": "@jupyter-widgets/base",
            "_view_module_version": "1.2.0",
            "_view_name": "StyleView",
            "description_width": ""
          }
        },
        "9f40c603a1af49cf91deb0e40713684d": {
          "model_module": "@jupyter-widgets/base",
          "model_name": "LayoutModel",
          "model_module_version": "1.2.0",
          "state": {
            "_model_module": "@jupyter-widgets/base",
            "_model_module_version": "1.2.0",
            "_model_name": "LayoutModel",
            "_view_count": null,
            "_view_module": "@jupyter-widgets/base",
            "_view_module_version": "1.2.0",
            "_view_name": "LayoutView",
            "align_content": null,
            "align_items": null,
            "align_self": null,
            "border": null,
            "bottom": null,
            "display": null,
            "flex": null,
            "flex_flow": null,
            "grid_area": null,
            "grid_auto_columns": null,
            "grid_auto_flow": null,
            "grid_auto_rows": null,
            "grid_column": null,
            "grid_gap": null,
            "grid_row": null,
            "grid_template_areas": null,
            "grid_template_columns": null,
            "grid_template_rows": null,
            "height": null,
            "justify_content": null,
            "justify_items": null,
            "left": null,
            "margin": null,
            "max_height": null,
            "max_width": null,
            "min_height": null,
            "min_width": null,
            "object_fit": null,
            "object_position": null,
            "order": null,
            "overflow": null,
            "overflow_x": null,
            "overflow_y": null,
            "padding": null,
            "right": null,
            "top": null,
            "visibility": null,
            "width": null
          }
        },
        "11c0bb24688b4ba2a6ee14c8b1ebf3b4": {
          "model_module": "@jupyter-widgets/controls",
          "model_name": "ProgressStyleModel",
          "model_module_version": "1.5.0",
          "state": {
            "_model_module": "@jupyter-widgets/controls",
            "_model_module_version": "1.5.0",
            "_model_name": "ProgressStyleModel",
            "_view_count": null,
            "_view_module": "@jupyter-widgets/base",
            "_view_module_version": "1.2.0",
            "_view_name": "StyleView",
            "bar_color": null,
            "description_width": ""
          }
        },
        "b8f09e1aac804e34a2e5073ea103ceb7": {
          "model_module": "@jupyter-widgets/base",
          "model_name": "LayoutModel",
          "model_module_version": "1.2.0",
          "state": {
            "_model_module": "@jupyter-widgets/base",
            "_model_module_version": "1.2.0",
            "_model_name": "LayoutModel",
            "_view_count": null,
            "_view_module": "@jupyter-widgets/base",
            "_view_module_version": "1.2.0",
            "_view_name": "LayoutView",
            "align_content": null,
            "align_items": null,
            "align_self": null,
            "border": null,
            "bottom": null,
            "display": null,
            "flex": null,
            "flex_flow": null,
            "grid_area": null,
            "grid_auto_columns": null,
            "grid_auto_flow": null,
            "grid_auto_rows": null,
            "grid_column": null,
            "grid_gap": null,
            "grid_row": null,
            "grid_template_areas": null,
            "grid_template_columns": null,
            "grid_template_rows": null,
            "height": null,
            "justify_content": null,
            "justify_items": null,
            "left": null,
            "margin": null,
            "max_height": null,
            "max_width": null,
            "min_height": null,
            "min_width": null,
            "object_fit": null,
            "object_position": null,
            "order": null,
            "overflow": null,
            "overflow_x": null,
            "overflow_y": null,
            "padding": null,
            "right": null,
            "top": null,
            "visibility": null,
            "width": null
          }
        },
        "0a5c5f05059b4699b57e1b289c5bc88f": {
          "model_module": "@jupyter-widgets/controls",
          "model_name": "DescriptionStyleModel",
          "model_module_version": "1.5.0",
          "state": {
            "_model_module": "@jupyter-widgets/controls",
            "_model_module_version": "1.5.0",
            "_model_name": "DescriptionStyleModel",
            "_view_count": null,
            "_view_module": "@jupyter-widgets/base",
            "_view_module_version": "1.2.0",
            "_view_name": "StyleView",
            "description_width": ""
          }
        },
        "e4e2400485af42c7b9587cbb66fc5e70": {
          "model_module": "@jupyter-widgets/controls",
          "model_name": "HBoxModel",
          "model_module_version": "1.5.0",
          "state": {
            "_dom_classes": [],
            "_model_module": "@jupyter-widgets/controls",
            "_model_module_version": "1.5.0",
            "_model_name": "HBoxModel",
            "_view_count": null,
            "_view_module": "@jupyter-widgets/controls",
            "_view_module_version": "1.5.0",
            "_view_name": "HBoxView",
            "box_style": "",
            "children": [
              "IPY_MODEL_eb1125a2e4704518a1494a1817a3eca2",
              "IPY_MODEL_4ef586f9e8a1435281227c6fb20327f0",
              "IPY_MODEL_adbe8276a72042f685db6f8c2faa365b"
            ],
            "layout": "IPY_MODEL_e2ce0c237beb4e54b01e0ff4bcd3d7a5"
          }
        },
        "eb1125a2e4704518a1494a1817a3eca2": {
          "model_module": "@jupyter-widgets/controls",
          "model_name": "HTMLModel",
          "model_module_version": "1.5.0",
          "state": {
            "_dom_classes": [],
            "_model_module": "@jupyter-widgets/controls",
            "_model_module_version": "1.5.0",
            "_model_name": "HTMLModel",
            "_view_count": null,
            "_view_module": "@jupyter-widgets/controls",
            "_view_module_version": "1.5.0",
            "_view_name": "HTMLView",
            "description": "",
            "description_tooltip": null,
            "layout": "IPY_MODEL_8185076204354b339a048030908ba056",
            "placeholder": "​",
            "style": "IPY_MODEL_a300d993d82246728e029641241acc12",
            "value": "100%"
          }
        },
        "4ef586f9e8a1435281227c6fb20327f0": {
          "model_module": "@jupyter-widgets/controls",
          "model_name": "FloatProgressModel",
          "model_module_version": "1.5.0",
          "state": {
            "_dom_classes": [],
            "_model_module": "@jupyter-widgets/controls",
            "_model_module_version": "1.5.0",
            "_model_name": "FloatProgressModel",
            "_view_count": null,
            "_view_module": "@jupyter-widgets/controls",
            "_view_module_version": "1.5.0",
            "_view_name": "ProgressView",
            "bar_style": "success",
            "description": "",
            "description_tooltip": null,
            "layout": "IPY_MODEL_bd6f0f8613c743e5b1e823dfb13ebbea",
            "max": 9,
            "min": 0,
            "orientation": "horizontal",
            "style": "IPY_MODEL_c6173092e1e141f4aaabe85291f130f1",
            "value": 9
          }
        },
        "adbe8276a72042f685db6f8c2faa365b": {
          "model_module": "@jupyter-widgets/controls",
          "model_name": "HTMLModel",
          "model_module_version": "1.5.0",
          "state": {
            "_dom_classes": [],
            "_model_module": "@jupyter-widgets/controls",
            "_model_module_version": "1.5.0",
            "_model_name": "HTMLModel",
            "_view_count": null,
            "_view_module": "@jupyter-widgets/controls",
            "_view_module_version": "1.5.0",
            "_view_name": "HTMLView",
            "description": "",
            "description_tooltip": null,
            "layout": "IPY_MODEL_3a09968b878d4ec692af0c2e83c5c9ba",
            "placeholder": "​",
            "style": "IPY_MODEL_aeb756cbd56141aebe085357b677ef60",
            "value": " 9/9 [00:06&lt;00:00,  1.60it/s]"
          }
        },
        "e2ce0c237beb4e54b01e0ff4bcd3d7a5": {
          "model_module": "@jupyter-widgets/base",
          "model_name": "LayoutModel",
          "model_module_version": "1.2.0",
          "state": {
            "_model_module": "@jupyter-widgets/base",
            "_model_module_version": "1.2.0",
            "_model_name": "LayoutModel",
            "_view_count": null,
            "_view_module": "@jupyter-widgets/base",
            "_view_module_version": "1.2.0",
            "_view_name": "LayoutView",
            "align_content": null,
            "align_items": null,
            "align_self": null,
            "border": null,
            "bottom": null,
            "display": null,
            "flex": null,
            "flex_flow": null,
            "grid_area": null,
            "grid_auto_columns": null,
            "grid_auto_flow": null,
            "grid_auto_rows": null,
            "grid_column": null,
            "grid_gap": null,
            "grid_row": null,
            "grid_template_areas": null,
            "grid_template_columns": null,
            "grid_template_rows": null,
            "height": null,
            "justify_content": null,
            "justify_items": null,
            "left": null,
            "margin": null,
            "max_height": null,
            "max_width": null,
            "min_height": null,
            "min_width": null,
            "object_fit": null,
            "object_position": null,
            "order": null,
            "overflow": null,
            "overflow_x": null,
            "overflow_y": null,
            "padding": null,
            "right": null,
            "top": null,
            "visibility": null,
            "width": null
          }
        },
        "8185076204354b339a048030908ba056": {
          "model_module": "@jupyter-widgets/base",
          "model_name": "LayoutModel",
          "model_module_version": "1.2.0",
          "state": {
            "_model_module": "@jupyter-widgets/base",
            "_model_module_version": "1.2.0",
            "_model_name": "LayoutModel",
            "_view_count": null,
            "_view_module": "@jupyter-widgets/base",
            "_view_module_version": "1.2.0",
            "_view_name": "LayoutView",
            "align_content": null,
            "align_items": null,
            "align_self": null,
            "border": null,
            "bottom": null,
            "display": null,
            "flex": null,
            "flex_flow": null,
            "grid_area": null,
            "grid_auto_columns": null,
            "grid_auto_flow": null,
            "grid_auto_rows": null,
            "grid_column": null,
            "grid_gap": null,
            "grid_row": null,
            "grid_template_areas": null,
            "grid_template_columns": null,
            "grid_template_rows": null,
            "height": null,
            "justify_content": null,
            "justify_items": null,
            "left": null,
            "margin": null,
            "max_height": null,
            "max_width": null,
            "min_height": null,
            "min_width": null,
            "object_fit": null,
            "object_position": null,
            "order": null,
            "overflow": null,
            "overflow_x": null,
            "overflow_y": null,
            "padding": null,
            "right": null,
            "top": null,
            "visibility": null,
            "width": null
          }
        },
        "a300d993d82246728e029641241acc12": {
          "model_module": "@jupyter-widgets/controls",
          "model_name": "DescriptionStyleModel",
          "model_module_version": "1.5.0",
          "state": {
            "_model_module": "@jupyter-widgets/controls",
            "_model_module_version": "1.5.0",
            "_model_name": "DescriptionStyleModel",
            "_view_count": null,
            "_view_module": "@jupyter-widgets/base",
            "_view_module_version": "1.2.0",
            "_view_name": "StyleView",
            "description_width": ""
          }
        },
        "bd6f0f8613c743e5b1e823dfb13ebbea": {
          "model_module": "@jupyter-widgets/base",
          "model_name": "LayoutModel",
          "model_module_version": "1.2.0",
          "state": {
            "_model_module": "@jupyter-widgets/base",
            "_model_module_version": "1.2.0",
            "_model_name": "LayoutModel",
            "_view_count": null,
            "_view_module": "@jupyter-widgets/base",
            "_view_module_version": "1.2.0",
            "_view_name": "LayoutView",
            "align_content": null,
            "align_items": null,
            "align_self": null,
            "border": null,
            "bottom": null,
            "display": null,
            "flex": null,
            "flex_flow": null,
            "grid_area": null,
            "grid_auto_columns": null,
            "grid_auto_flow": null,
            "grid_auto_rows": null,
            "grid_column": null,
            "grid_gap": null,
            "grid_row": null,
            "grid_template_areas": null,
            "grid_template_columns": null,
            "grid_template_rows": null,
            "height": null,
            "justify_content": null,
            "justify_items": null,
            "left": null,
            "margin": null,
            "max_height": null,
            "max_width": null,
            "min_height": null,
            "min_width": null,
            "object_fit": null,
            "object_position": null,
            "order": null,
            "overflow": null,
            "overflow_x": null,
            "overflow_y": null,
            "padding": null,
            "right": null,
            "top": null,
            "visibility": null,
            "width": null
          }
        },
        "c6173092e1e141f4aaabe85291f130f1": {
          "model_module": "@jupyter-widgets/controls",
          "model_name": "ProgressStyleModel",
          "model_module_version": "1.5.0",
          "state": {
            "_model_module": "@jupyter-widgets/controls",
            "_model_module_version": "1.5.0",
            "_model_name": "ProgressStyleModel",
            "_view_count": null,
            "_view_module": "@jupyter-widgets/base",
            "_view_module_version": "1.2.0",
            "_view_name": "StyleView",
            "bar_color": null,
            "description_width": ""
          }
        },
        "3a09968b878d4ec692af0c2e83c5c9ba": {
          "model_module": "@jupyter-widgets/base",
          "model_name": "LayoutModel",
          "model_module_version": "1.2.0",
          "state": {
            "_model_module": "@jupyter-widgets/base",
            "_model_module_version": "1.2.0",
            "_model_name": "LayoutModel",
            "_view_count": null,
            "_view_module": "@jupyter-widgets/base",
            "_view_module_version": "1.2.0",
            "_view_name": "LayoutView",
            "align_content": null,
            "align_items": null,
            "align_self": null,
            "border": null,
            "bottom": null,
            "display": null,
            "flex": null,
            "flex_flow": null,
            "grid_area": null,
            "grid_auto_columns": null,
            "grid_auto_flow": null,
            "grid_auto_rows": null,
            "grid_column": null,
            "grid_gap": null,
            "grid_row": null,
            "grid_template_areas": null,
            "grid_template_columns": null,
            "grid_template_rows": null,
            "height": null,
            "justify_content": null,
            "justify_items": null,
            "left": null,
            "margin": null,
            "max_height": null,
            "max_width": null,
            "min_height": null,
            "min_width": null,
            "object_fit": null,
            "object_position": null,
            "order": null,
            "overflow": null,
            "overflow_x": null,
            "overflow_y": null,
            "padding": null,
            "right": null,
            "top": null,
            "visibility": null,
            "width": null
          }
        },
        "aeb756cbd56141aebe085357b677ef60": {
          "model_module": "@jupyter-widgets/controls",
          "model_name": "DescriptionStyleModel",
          "model_module_version": "1.5.0",
          "state": {
            "_model_module": "@jupyter-widgets/controls",
            "_model_module_version": "1.5.0",
            "_model_name": "DescriptionStyleModel",
            "_view_count": null,
            "_view_module": "@jupyter-widgets/base",
            "_view_module_version": "1.2.0",
            "_view_name": "StyleView",
            "description_width": ""
          }
        }
      }
    }
  },
  "nbformat": 4,
  "nbformat_minor": 0
}